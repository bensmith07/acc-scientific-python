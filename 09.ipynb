{
 "cells": [
  {
   "cell_type": "markdown",
   "metadata": {},
   "source": [
    "# This is Assignment 09 - Ben Smith"
   ]
  },
  {
   "cell_type": "markdown",
   "metadata": {},
   "source": [
    "## Importing"
   ]
  },
  {
   "cell_type": "code",
   "execution_count": 2,
   "metadata": {},
   "outputs": [],
   "source": [
    "import array\n",
    "import numpy as np\n",
    "import pandas as pd\n",
    "%matplotlib inline\n",
    "import matplotlib.pyplot as plt"
   ]
  },
  {
   "cell_type": "markdown",
   "metadata": {},
   "source": [
    "## Requirement 4"
   ]
  },
  {
   "cell_type": "markdown",
   "metadata": {},
   "source": [
    "#### Explain how Numpy Arrays are like Python lists and how they are different. See multiple chapters for this information. "
   ]
  },
  {
   "cell_type": "markdown",
   "metadata": {},
   "source": [
    "The most salient difference between NumPy arrays and Python lists is that, while NumPy Arrays can only contain one single data type, each element in a Python list could potentially be a different data type. This allows users much more flexibility in using Python lists, but comes at a cost of efficiency when storing and manipulating data because each item in the list must contain it's own type information. This difference in ability to store types of data is due in part to the Python list acting as a \"pointer to a block of pointers, each of which points to a full Python object,\" while the NumPy Array is a \"single pointer to one continguous block of data.\"\n",
    "\n",
    "Another thing to compare and contrast about NumPy Arrays and Python lists is in indexing and slicing. These have similar syntax in both formats. However, an array slice returns a view of the data without copying it, while a slice of a Python list will create a copy. "
   ]
  },
  {
   "cell_type": "markdown",
   "metadata": {},
   "source": [
    "## Requirement 5"
   ]
  },
  {
   "cell_type": "markdown",
   "metadata": {},
   "source": [
    "#### Explain how variable typing is performed in Python compared to how it is performed in a language like C"
   ]
  },
  {
   "cell_type": "markdown",
   "metadata": {},
   "source": [
    "In a language like C, each variable must be explicity declared, while in Python, the type is dynamically inferred. This allows values of different types to be assigned to the same Python variable consecutively without creating an error, and any type of data can be assigned to any variable."
   ]
  },
  {
   "cell_type": "markdown",
   "metadata": {},
   "source": [
    "## Requirement 6"
   ]
  },
  {
   "cell_type": "markdown",
   "metadata": {},
   "source": [
    "#### Explain how integer storage is performed in Python compared to how it is performed in a language like C"
   ]
  },
  {
   "cell_type": "markdown",
   "metadata": {},
   "source": [
    "An integer in Python is stored in four pieces: a reference count that assists in memory functions, an encoding of the variable type, a size specification, and of course represented value. In contrast, an integer in C labels a position in memory, and the bytes at that position encode the integer value. This, again, allows Python to be more flexible than other languages, but comes at a cost of memory efficiency. "
   ]
  },
  {
   "cell_type": "markdown",
   "metadata": {},
   "source": [
    "## Requirement 7"
   ]
  },
  {
   "cell_type": "markdown",
   "metadata": {},
   "source": [
    "#### Create a list (L1) of numbers 1-20. Convert the numbers in L1 to strings and store them in a new list (L2)"
   ]
  },
  {
   "cell_type": "code",
   "execution_count": 3,
   "metadata": {},
   "outputs": [
    {
     "name": "stdout",
     "output_type": "stream",
     "text": [
      "[1, 2, 3, 4, 5, 6, 7, 8, 9, 10, 11, 12, 13, 14, 15, 16, 17, 18, 19, 20]\n"
     ]
    }
   ],
   "source": [
    "L1 = list(range(1, 21))\n",
    "print(L1)"
   ]
  },
  {
   "cell_type": "code",
   "execution_count": 4,
   "metadata": {},
   "outputs": [
    {
     "name": "stdout",
     "output_type": "stream",
     "text": [
      "['1', '2', '3', '4', '5', '6', '7', '8', '9', '10', '11', '12', '13', '14', '15', '16', '17', '18', '19', '20']\n"
     ]
    }
   ],
   "source": [
    "L2 = [str(n) for n in L1]\n",
    "print(L2)"
   ]
  },
  {
   "cell_type": "markdown",
   "metadata": {},
   "source": [
    "## Requirement 8"
   ]
  },
  {
   "cell_type": "markdown",
   "metadata": {},
   "source": [
    "#### Demonstrate a heterogenous list with at least 5 different data types"
   ]
  },
  {
   "cell_type": "code",
   "execution_count": 5,
   "metadata": {},
   "outputs": [
    {
     "name": "stdout",
     "output_type": "stream",
     "text": [
      "['Tennessee', 45, 5.9, True, <built-in function abs>]\n"
     ]
    }
   ],
   "source": [
    "List3 = ['Tennessee', 45, 5.9, True, abs]\n",
    "print(List3)"
   ]
  },
  {
   "cell_type": "code",
   "execution_count": 6,
   "metadata": {},
   "outputs": [
    {
     "data": {
      "text/plain": [
       "[str, int, float, bool, builtin_function_or_method]"
      ]
     },
     "execution_count": 6,
     "metadata": {},
     "output_type": "execute_result"
    }
   ],
   "source": [
    "[type(item) for item in List3]"
   ]
  },
  {
   "cell_type": "markdown",
   "metadata": {},
   "source": [
    "## Requirement 9"
   ]
  },
  {
   "cell_type": "markdown",
   "metadata": {},
   "source": [
    "#### Create a Python array using the built in array module. Demonstrate the following options on the array: append, insert, index, attempt to insert an element of a different type, clear"
   ]
  },
  {
   "cell_type": "code",
   "execution_count": 7,
   "metadata": {},
   "outputs": [
    {
     "data": {
      "text/plain": [
       "array('i', [0, 1, 2, 3, 4, 5, 6, 7, 8, 9, 10])"
      ]
     },
     "execution_count": 7,
     "metadata": {},
     "output_type": "execute_result"
    }
   ],
   "source": [
    "List4 = list(range(11))\n",
    "A = array.array('i', List4)\n",
    "A"
   ]
  },
  {
   "cell_type": "code",
   "execution_count": 10,
   "metadata": {},
   "outputs": [
    {
     "data": {
      "text/plain": [
       "array([ 0,  1,  2,  3,  4,  5,  6,  7,  8,  9, 10,  7,  8,  9])"
      ]
     },
     "execution_count": 10,
     "metadata": {},
     "output_type": "execute_result"
    }
   ],
   "source": [
    "#append\n",
    "A1 = np.append(A, [7, 8, 9])\n",
    "A1"
   ]
  },
  {
   "cell_type": "code",
   "execution_count": 51,
   "metadata": {},
   "outputs": [
    {
     "data": {
      "text/plain": [
       "array([ 0,  1,  2,  4,  5,  6,  3,  4,  5,  6,  7,  8,  9, 10,  7,  8,  9])"
      ]
     },
     "execution_count": 51,
     "metadata": {},
     "output_type": "execute_result"
    }
   ],
   "source": [
    "#insert\n",
    "A2 = np.insert(A1, [3], [4, 5, 6])\n",
    "A2"
   ]
  },
  {
   "cell_type": "code",
   "execution_count": 52,
   "metadata": {},
   "outputs": [
    {
     "data": {
      "text/plain": [
       "9"
      ]
     },
     "execution_count": 52,
     "metadata": {},
     "output_type": "execute_result"
    }
   ],
   "source": [
    "#index\n",
    "A2[-1] \n",
    "\n",
    "#returns the last value in the array"
   ]
  },
  {
   "cell_type": "code",
   "execution_count": 11,
   "metadata": {},
   "outputs": [
    {
     "ename": "NameError",
     "evalue": "name 'A2' is not defined",
     "output_type": "error",
     "traceback": [
      "\u001b[1;31m---------------------------------------------------------------------------\u001b[0m",
      "\u001b[1;31mNameError\u001b[0m                                 Traceback (most recent call last)",
      "\u001b[1;32m<ipython-input-11-9b0b1a568539>\u001b[0m in \u001b[0;36m<module>\u001b[1;34m\u001b[0m\n\u001b[0;32m      1\u001b[0m \u001b[1;31m#attempt to insert an element of a different type\u001b[0m\u001b[1;33m\u001b[0m\u001b[1;33m\u001b[0m\u001b[1;33m\u001b[0m\u001b[0m\n\u001b[1;32m----> 2\u001b[1;33m \u001b[0mnp\u001b[0m\u001b[1;33m.\u001b[0m\u001b[0minsert\u001b[0m\u001b[1;33m(\u001b[0m\u001b[0mA2\u001b[0m\u001b[1;33m,\u001b[0m \u001b[1;33m[\u001b[0m\u001b[1;36m0\u001b[0m\u001b[1;33m]\u001b[0m\u001b[1;33m,\u001b[0m \u001b[1;33m[\u001b[0m\u001b[1;34m'zero'\u001b[0m\u001b[1;33m]\u001b[0m\u001b[1;33m)\u001b[0m\u001b[1;33m\u001b[0m\u001b[1;33m\u001b[0m\u001b[0m\n\u001b[0m\u001b[0;32m      3\u001b[0m \u001b[1;33m\u001b[0m\u001b[0m\n\u001b[0;32m      4\u001b[0m \u001b[1;31m# This attempt to insert a string returns an error because NumPy arrays can only contain values of a single type\u001b[0m\u001b[1;33m\u001b[0m\u001b[1;33m\u001b[0m\u001b[1;33m\u001b[0m\u001b[0m\n",
      "\u001b[1;31mNameError\u001b[0m: name 'A2' is not defined"
     ]
    }
   ],
   "source": [
    "#attempt to insert an element of a different type\n",
    "np.insert(A2, [0], ['zero'])\n",
    "\n",
    "# This attempt to insert a string returns an error because NumPy arrays can only contain values of a single type"
   ]
  },
  {
   "cell_type": "markdown",
   "metadata": {},
   "source": [
    "## Requirement 10"
   ]
  },
  {
   "cell_type": "markdown",
   "metadata": {},
   "source": [
    "#### Create a NumPy array of 10 floats named one_d_array. Demonstrate the following operations on the array: implicit casting (aka up-casting), explicit casting"
   ]
  },
  {
   "cell_type": "code",
   "execution_count": 13,
   "metadata": {},
   "outputs": [
    {
     "name": "stdout",
     "output_type": "stream",
     "text": [
      "[0. 1. 2. 3. 4. 5. 6. 7. 8. 9.]\n",
      "[10 11 12]\n"
     ]
    }
   ],
   "source": [
    "one_d_array = np.arange((10), dtype=float)\n",
    "int_array = np.array([10, 11, 12])\n",
    "\n",
    "print(one_d_array)\n",
    "print(int_array)"
   ]
  },
  {
   "cell_type": "code",
   "execution_count": 14,
   "metadata": {},
   "outputs": [
    {
     "data": {
      "text/plain": [
       "array([ 0.,  1.,  2.,  3.,  4.,  5.,  6.,  7.,  8.,  9., 10., 11., 12.])"
      ]
     },
     "execution_count": 14,
     "metadata": {},
     "output_type": "execute_result"
    }
   ],
   "source": [
    "# Implicit Casting\n",
    "\n",
    "imp_array = np.concatenate([one_d_array, int_array])\n",
    "imp_array\n",
    "\n",
    "# the integers from int_array are implicitly up-casted to floats so that all data in the \n",
    "# concatenated array will be of the same type. "
   ]
  },
  {
   "cell_type": "code",
   "execution_count": 15,
   "metadata": {},
   "outputs": [
    {
     "data": {
      "text/plain": [
       "array([0, 1, 2, 3, 4, 5, 6, 7, 8, 9])"
      ]
     },
     "execution_count": 15,
     "metadata": {},
     "output_type": "execute_result"
    }
   ],
   "source": [
    "# Explicit Casting\n",
    "\n",
    "exp_array = one_d_array.astype('int32')\n",
    "exp_array\n",
    "\n",
    "# data in one_d_array are explicitly downcasted to integers"
   ]
  },
  {
   "cell_type": "markdown",
   "metadata": {},
   "source": [
    "## Requirement 11"
   ]
  },
  {
   "cell_type": "markdown",
   "metadata": {},
   "source": [
    "#### Use list comprehension to create a two dimensional NumPy array named two_d_array with 5 rows and 3 columns with the following content:"
   ]
  },
  {
   "cell_type": "code",
   "execution_count": 16,
   "metadata": {},
   "outputs": [
    {
     "data": {
      "text/plain": [
       "array([[1, 2, 3],\n",
       "       [2, 3, 4],\n",
       "       [3, 4, 5],\n",
       "       [4, 5, 6],\n",
       "       [5, 6, 7]])"
      ]
     },
     "execution_count": 16,
     "metadata": {},
     "output_type": "execute_result"
    }
   ],
   "source": [
    "two_d_array = np.array([range(n, n+3) for n in [1, 2, 3, 4, 5]])\n",
    "two_d_array"
   ]
  },
  {
   "cell_type": "markdown",
   "metadata": {},
   "source": [
    "## Requirement 12"
   ]
  },
  {
   "cell_type": "markdown",
   "metadata": {},
   "source": [
    "#### Create a 3-dimensional NumPy array named three_d_array with random numbers between 0-99. The shape of the array should be (3, 5, 5). Also display the size in bytes of the array"
   ]
  },
  {
   "cell_type": "code",
   "execution_count": 17,
   "metadata": {},
   "outputs": [
    {
     "name": "stdout",
     "output_type": "stream",
     "text": [
      "[[[86 89 74 21 78]\n",
      "  [41 21 90 30 91]\n",
      "  [96 13 95 61 41]\n",
      "  [14 28 26 13 53]\n",
      "  [36 20 45 81  9]]\n",
      "\n",
      " [[87 80 98 98 14]\n",
      "  [25 58 69 77 24]\n",
      "  [85 16 80 42 79]\n",
      "  [28 35 22 77 38]\n",
      "  [39 83 49 77 86]]\n",
      "\n",
      " [[64 95 76 19 20]\n",
      "  [23 34 47 18 37]\n",
      "  [93 56 92 19 14]\n",
      "  [26  0 16 80 50]\n",
      "  [40 50 60 56 51]]]\n"
     ]
    }
   ],
   "source": [
    "three_d_array = np.random.randint(0, 99, (3, 5, 5))\n",
    "print(three_d_array)"
   ]
  },
  {
   "cell_type": "code",
   "execution_count": 18,
   "metadata": {},
   "outputs": [
    {
     "name": "stdout",
     "output_type": "stream",
     "text": [
      "4\n"
     ]
    }
   ],
   "source": [
    "# Three_d_array size in bytes\n",
    "print(three_d_array.itemsize)"
   ]
  },
  {
   "cell_type": "markdown",
   "metadata": {},
   "source": [
    "## Requirement 13"
   ]
  },
  {
   "cell_type": "markdown",
   "metadata": {},
   "source": [
    "#### Demonstrate accessing 4 different individual elements of the three_d_array"
   ]
  },
  {
   "cell_type": "code",
   "execution_count": 19,
   "metadata": {},
   "outputs": [
    {
     "data": {
      "text/plain": [
       "86"
      ]
     },
     "execution_count": 19,
     "metadata": {},
     "output_type": "execute_result"
    }
   ],
   "source": [
    "three_d_array[0, 0, 0]"
   ]
  },
  {
   "cell_type": "code",
   "execution_count": 20,
   "metadata": {},
   "outputs": [
    {
     "data": {
      "text/plain": [
       "89"
      ]
     },
     "execution_count": 20,
     "metadata": {},
     "output_type": "execute_result"
    }
   ],
   "source": [
    "three_d_array[0, 0, 1] "
   ]
  },
  {
   "cell_type": "code",
   "execution_count": 21,
   "metadata": {},
   "outputs": [
    {
     "data": {
      "text/plain": [
       "74"
      ]
     },
     "execution_count": 21,
     "metadata": {},
     "output_type": "execute_result"
    }
   ],
   "source": [
    "three_d_array[0, 0, 2]"
   ]
  },
  {
   "cell_type": "code",
   "execution_count": 22,
   "metadata": {},
   "outputs": [
    {
     "data": {
      "text/plain": [
       "21"
      ]
     },
     "execution_count": 22,
     "metadata": {},
     "output_type": "execute_result"
    }
   ],
   "source": [
    "three_d_array[0, 0, 3]"
   ]
  },
  {
   "cell_type": "markdown",
   "metadata": {},
   "source": [
    "## Requirement 14"
   ]
  },
  {
   "cell_type": "markdown",
   "metadata": {},
   "source": [
    "#### Demonstrate modifying 4 different individual elements of the three_d_array"
   ]
  },
  {
   "cell_type": "code",
   "execution_count": 23,
   "metadata": {},
   "outputs": [
    {
     "name": "stdout",
     "output_type": "stream",
     "text": [
      "[[[ 1  2  3  4 78]\n",
      "  [41 21 90 30 91]\n",
      "  [96 13 95 61 41]\n",
      "  [14 28 26 13 53]\n",
      "  [36 20 45 81  9]]\n",
      "\n",
      " [[87 80 98 98 14]\n",
      "  [25 58 69 77 24]\n",
      "  [85 16 80 42 79]\n",
      "  [28 35 22 77 38]\n",
      "  [39 83 49 77 86]]\n",
      "\n",
      " [[64 95 76 19 20]\n",
      "  [23 34 47 18 37]\n",
      "  [93 56 92 19 14]\n",
      "  [26  0 16 80 50]\n",
      "  [40 50 60 56 51]]]\n"
     ]
    }
   ],
   "source": [
    "three_d_array[0, 0, 0] = 1\n",
    "three_d_array[0, 0, 1] = 2\n",
    "three_d_array[0, 0, 2] = 3\n",
    "three_d_array[0, 0, 3] = 4\n",
    "print(three_d_array)"
   ]
  },
  {
   "cell_type": "markdown",
   "metadata": {},
   "source": [
    "## Requirement 15"
   ]
  },
  {
   "cell_type": "markdown",
   "metadata": {},
   "source": [
    "#### Using one_d_array, demonstrate slicing:"
   ]
  },
  {
   "cell_type": "code",
   "execution_count": 31,
   "metadata": {},
   "outputs": [
    {
     "data": {
      "text/plain": [
       "array([0., 1., 2., 3., 4., 5., 6., 7., 8., 9.])"
      ]
     },
     "execution_count": 31,
     "metadata": {},
     "output_type": "execute_result"
    }
   ],
   "source": [
    "one_d_array"
   ]
  },
  {
   "cell_type": "code",
   "execution_count": 32,
   "metadata": {},
   "outputs": [
    {
     "data": {
      "text/plain": [
       "array([0., 1., 2., 3., 4., 5., 6.])"
      ]
     },
     "execution_count": 32,
     "metadata": {},
     "output_type": "execute_result"
    }
   ],
   "source": [
    "#the first 7 elements\n",
    "one_d_array[:7]"
   ]
  },
  {
   "cell_type": "code",
   "execution_count": 33,
   "metadata": {},
   "outputs": [
    {
     "data": {
      "text/plain": [
       "array([7., 8., 9.])"
      ]
     },
     "execution_count": 33,
     "metadata": {},
     "output_type": "execute_result"
    }
   ],
   "source": [
    "# all after index 7\n",
    "one_d_array[7:]"
   ]
  },
  {
   "cell_type": "code",
   "execution_count": 34,
   "metadata": {},
   "outputs": [
    {
     "data": {
      "text/plain": [
       "array([3., 4., 5., 6., 7.])"
      ]
     },
     "execution_count": 34,
     "metadata": {},
     "output_type": "execute_result"
    }
   ],
   "source": [
    "# from index 3 to index 8\n",
    "one_d_array[3:8]"
   ]
  },
  {
   "cell_type": "code",
   "execution_count": 35,
   "metadata": {},
   "outputs": [
    {
     "data": {
      "text/plain": [
       "array([0., 2., 4., 6., 8.])"
      ]
     },
     "execution_count": 35,
     "metadata": {},
     "output_type": "execute_result"
    }
   ],
   "source": [
    "#every other element\n",
    "one_d_array[::2]"
   ]
  },
  {
   "cell_type": "code",
   "execution_count": 36,
   "metadata": {},
   "outputs": [
    {
     "data": {
      "text/plain": [
       "array([9., 8., 7., 6., 5., 4., 3., 2., 1., 0.])"
      ]
     },
     "execution_count": 36,
     "metadata": {},
     "output_type": "execute_result"
    }
   ],
   "source": [
    "# all elements reversed\n",
    "one_d_array[::-1]"
   ]
  },
  {
   "cell_type": "code",
   "execution_count": 37,
   "metadata": {},
   "outputs": [
    {
     "data": {
      "text/plain": [
       "array([7., 6., 5., 4., 3., 2., 1., 0.])"
      ]
     },
     "execution_count": 37,
     "metadata": {},
     "output_type": "execute_result"
    }
   ],
   "source": [
    "#reverse every other element from index 7\n",
    "one_d_array[7::-1]"
   ]
  },
  {
   "cell_type": "markdown",
   "metadata": {},
   "source": [
    "## Requirement 16"
   ]
  },
  {
   "cell_type": "markdown",
   "metadata": {},
   "source": [
    "#### Using two_d_array, demonstrate slicing: first two rows and first two columns, all rows and every other column, all columns and every other row, extracting a subarray"
   ]
  },
  {
   "cell_type": "code",
   "execution_count": 38,
   "metadata": {},
   "outputs": [
    {
     "data": {
      "text/plain": [
       "array([[1, 2, 3],\n",
       "       [2, 3, 4],\n",
       "       [3, 4, 5],\n",
       "       [4, 5, 6],\n",
       "       [5, 6, 7]])"
      ]
     },
     "execution_count": 38,
     "metadata": {},
     "output_type": "execute_result"
    }
   ],
   "source": [
    "two_d_array"
   ]
  },
  {
   "cell_type": "code",
   "execution_count": 39,
   "metadata": {},
   "outputs": [
    {
     "data": {
      "text/plain": [
       "array([[1, 2, 3],\n",
       "       [2, 3, 4]])"
      ]
     },
     "execution_count": 39,
     "metadata": {},
     "output_type": "execute_result"
    }
   ],
   "source": [
    "#first two rows and first two columns\n",
    "two_d_array[:2, :3]"
   ]
  },
  {
   "cell_type": "code",
   "execution_count": 40,
   "metadata": {},
   "outputs": [
    {
     "data": {
      "text/plain": [
       "array([[1, 3],\n",
       "       [2, 4],\n",
       "       [3, 5],\n",
       "       [4, 6],\n",
       "       [5, 7]])"
      ]
     },
     "execution_count": 40,
     "metadata": {},
     "output_type": "execute_result"
    }
   ],
   "source": [
    "# all rows, every other column\n",
    "two_d_array[:5, ::2]"
   ]
  },
  {
   "cell_type": "code",
   "execution_count": 41,
   "metadata": {},
   "outputs": [
    {
     "data": {
      "text/plain": [
       "array([[1, 2, 3],\n",
       "       [3, 4, 5],\n",
       "       [5, 6, 7]])"
      ]
     },
     "execution_count": 41,
     "metadata": {},
     "output_type": "execute_result"
    }
   ],
   "source": [
    "# all columns and every other row\n",
    "two_d_array[::2, :3]"
   ]
  },
  {
   "cell_type": "code",
   "execution_count": 42,
   "metadata": {},
   "outputs": [
    {
     "data": {
      "text/plain": [
       "array([[1, 2],\n",
       "       [2, 3],\n",
       "       [3, 4]])"
      ]
     },
     "execution_count": 42,
     "metadata": {},
     "output_type": "execute_result"
    }
   ],
   "source": [
    "# extracting a subarray\n",
    "two_d_array_sub = two_d_array[:3, :2]\n",
    "two_d_array_sub"
   ]
  },
  {
   "cell_type": "markdown",
   "metadata": {},
   "source": [
    "## Requirement 17"
   ]
  },
  {
   "cell_type": "markdown",
   "metadata": {},
   "source": [
    "#### Use NumPy's arrange and reshape methods to create a 10x10 array with values as shown"
   ]
  },
  {
   "cell_type": "code",
   "execution_count": 43,
   "metadata": {},
   "outputs": [
    {
     "name": "stdout",
     "output_type": "stream",
     "text": [
      "[[  1   2   3   4   5   6   7   8   9  10]\n",
      " [ 11  12  13  14  15  16  17  18  19  20]\n",
      " [ 21  22  23  24  25  26  27  28  29  30]\n",
      " [ 31  32  33  34  35  36  37  38  39  40]\n",
      " [ 41  42  43  44  45  46  47  48  49  50]\n",
      " [ 51  52  53  54  55  56  57  58  59  60]\n",
      " [ 61  62  63  64  65  66  67  68  69  70]\n",
      " [ 71  72  73  74  75  76  77  78  79  80]\n",
      " [ 81  82  83  84  85  86  87  88  89  90]\n",
      " [ 91  92  93  94  95  96  97  98  99 100]]\n"
     ]
    }
   ],
   "source": [
    "arr10 = np.arange(1, 101).reshape((10,10))\n",
    "print(arr10)"
   ]
  },
  {
   "cell_type": "markdown",
   "metadata": {},
   "source": [
    "## Requirement 18"
   ]
  },
  {
   "cell_type": "markdown",
   "metadata": {},
   "source": [
    "#### Using one_d_array, create a row vector and a column vector"
   ]
  },
  {
   "cell_type": "code",
   "execution_count": 44,
   "metadata": {},
   "outputs": [
    {
     "data": {
      "text/plain": [
       "array([0., 1., 2., 3., 4., 5., 6., 7., 8., 9.])"
      ]
     },
     "execution_count": 44,
     "metadata": {},
     "output_type": "execute_result"
    }
   ],
   "source": [
    "one_d_array"
   ]
  },
  {
   "cell_type": "code",
   "execution_count": 45,
   "metadata": {},
   "outputs": [
    {
     "data": {
      "text/plain": [
       "array([[0., 1., 2., 3., 4., 5., 6., 7., 8., 9.]])"
      ]
     },
     "execution_count": 45,
     "metadata": {},
     "output_type": "execute_result"
    }
   ],
   "source": [
    "# row vector via reshape\n",
    "one_d_array.reshape((1, 10))"
   ]
  },
  {
   "cell_type": "code",
   "execution_count": 46,
   "metadata": {},
   "outputs": [
    {
     "data": {
      "text/plain": [
       "array([[0., 1., 2., 3., 4., 5., 6., 7., 8., 9.]])"
      ]
     },
     "execution_count": 46,
     "metadata": {},
     "output_type": "execute_result"
    }
   ],
   "source": [
    "# row vector via newaxis\n",
    "one_d_array[np.newaxis, :]"
   ]
  },
  {
   "cell_type": "code",
   "execution_count": 47,
   "metadata": {},
   "outputs": [
    {
     "data": {
      "text/plain": [
       "array([[0.],\n",
       "       [1.],\n",
       "       [2.],\n",
       "       [3.],\n",
       "       [4.],\n",
       "       [5.],\n",
       "       [6.],\n",
       "       [7.],\n",
       "       [8.],\n",
       "       [9.]])"
      ]
     },
     "execution_count": 47,
     "metadata": {},
     "output_type": "execute_result"
    }
   ],
   "source": [
    "# column vector via reshape\n",
    "one_d_array.reshape((10, 1))"
   ]
  },
  {
   "cell_type": "code",
   "execution_count": 48,
   "metadata": {},
   "outputs": [
    {
     "data": {
      "text/plain": [
       "array([[0.],\n",
       "       [1.],\n",
       "       [2.],\n",
       "       [3.],\n",
       "       [4.],\n",
       "       [5.],\n",
       "       [6.],\n",
       "       [7.],\n",
       "       [8.],\n",
       "       [9.]])"
      ]
     },
     "execution_count": 48,
     "metadata": {},
     "output_type": "execute_result"
    }
   ],
   "source": [
    "# column vector via newaxis\n",
    "one_d_array[:, np.newaxis]"
   ]
  },
  {
   "cell_type": "markdown",
   "metadata": {},
   "source": [
    "## Requirement 19"
   ]
  },
  {
   "cell_type": "markdown",
   "metadata": {},
   "source": [
    "#### Explain what a NumPy universal function is and why they are useful"
   ]
  },
  {
   "cell_type": "markdown",
   "metadata": {},
   "source": [
    "NumPy universal functions, AKA \"ufuncs\" are used to more efficiently perform repeated calculatinos on elements of NumPy arrays. Python itself is relatively slow in situations where many small operations are conductedd repeatedly - such as in a loop that iterates over an entire array. This is in large part due to the fact that Python must look up the type-checking that is done on each iteration of the loop. Numpy ufuncs are a type of vectorized operation that are \"designed to push the loop into the compiled layer that underlies NumPy, leading to much faster execution.\" \n"
   ]
  },
  {
   "cell_type": "markdown",
   "metadata": {},
   "source": [
    "## Requirement 20"
   ]
  },
  {
   "cell_type": "markdown",
   "metadata": {},
   "source": [
    "#### Demonstrate the use of the out argument"
   ]
  },
  {
   "cell_type": "code",
   "execution_count": 49,
   "metadata": {},
   "outputs": [
    {
     "name": "stdout",
     "output_type": "stream",
     "text": [
      "[0 1 2 3 4 5 6 7 8 9]\n"
     ]
    }
   ],
   "source": [
    "m = np.arange(10)\n",
    "print(m)"
   ]
  },
  {
   "cell_type": "code",
   "execution_count": 50,
   "metadata": {},
   "outputs": [
    {
     "name": "stdout",
     "output_type": "stream",
     "text": [
      "[ 0. 10. 20. 30. 40. 50. 60. 70. 80. 90.]\n"
     ]
    }
   ],
   "source": [
    "n = np.empty(10)\n",
    "np.multiply(m, 10, out=n)\n",
    "print(n)"
   ]
  },
  {
   "cell_type": "markdown",
   "metadata": {},
   "source": [
    "## Requirement 21"
   ]
  },
  {
   "cell_type": "markdown",
   "metadata": {},
   "source": [
    "#### Use aggregates to show the product of all elements of one_d_array"
   ]
  },
  {
   "cell_type": "code",
   "execution_count": 51,
   "metadata": {},
   "outputs": [
    {
     "data": {
      "text/plain": [
       "0.0"
      ]
     },
     "execution_count": 51,
     "metadata": {},
     "output_type": "execute_result"
    }
   ],
   "source": [
    "np.product(one_d_array)"
   ]
  },
  {
   "cell_type": "markdown",
   "metadata": {},
   "source": [
    "## Requirement 22"
   ]
  },
  {
   "cell_type": "markdown",
   "metadata": {},
   "source": [
    "#### Creat the NumPy arrays x and y below and use the multiply() and outer () methods to produce the output as shown"
   ]
  },
  {
   "cell_type": "code",
   "execution_count": 52,
   "metadata": {},
   "outputs": [
    {
     "name": "stdout",
     "output_type": "stream",
     "text": [
      "[1 2 3 4 5]\n",
      "[2 2 2 2 2]\n"
     ]
    }
   ],
   "source": [
    "x = np.arange(1,6)\n",
    "y = np.full(5, 2)\n",
    "print(x)\n",
    "print(y)"
   ]
  },
  {
   "cell_type": "code",
   "execution_count": 53,
   "metadata": {},
   "outputs": [
    {
     "data": {
      "text/plain": [
       "array([[ 2,  2,  2,  2,  2],\n",
       "       [ 4,  4,  4,  4,  4],\n",
       "       [ 6,  6,  6,  6,  6],\n",
       "       [ 8,  8,  8,  8,  8],\n",
       "       [10, 10, 10, 10, 10]])"
      ]
     },
     "execution_count": 53,
     "metadata": {},
     "output_type": "execute_result"
    }
   ],
   "source": [
    "np.multiply.outer(x, y)"
   ]
  },
  {
   "cell_type": "markdown",
   "metadata": {},
   "source": [
    "## Requirement 23"
   ]
  },
  {
   "cell_type": "markdown",
   "metadata": {},
   "source": [
    "#### Demonstrate NumPy's sum, min, and max functions. Use the %timeit magic function to compare the performance to Python's built-in sum, min, and max functions"
   ]
  },
  {
   "cell_type": "code",
   "execution_count": 54,
   "metadata": {},
   "outputs": [],
   "source": [
    "arr11 = np.random.random(100)"
   ]
  },
  {
   "cell_type": "code",
   "execution_count": 55,
   "metadata": {},
   "outputs": [
    {
     "data": {
      "text/plain": [
       "47.73215096027509"
      ]
     },
     "execution_count": 55,
     "metadata": {},
     "output_type": "execute_result"
    }
   ],
   "source": [
    "#Numpy Sum\n",
    "np.sum(arr11)"
   ]
  },
  {
   "cell_type": "code",
   "execution_count": 56,
   "metadata": {},
   "outputs": [
    {
     "data": {
      "text/plain": [
       "0.014685060310829834"
      ]
     },
     "execution_count": 56,
     "metadata": {},
     "output_type": "execute_result"
    }
   ],
   "source": [
    "#Numpy Min\n",
    "np.min(arr11)"
   ]
  },
  {
   "cell_type": "code",
   "execution_count": 57,
   "metadata": {},
   "outputs": [
    {
     "data": {
      "text/plain": [
       "0.9650249536712706"
      ]
     },
     "execution_count": 57,
     "metadata": {},
     "output_type": "execute_result"
    }
   ],
   "source": [
    "#Numpy Max\n",
    "np.max(arr11)"
   ]
  },
  {
   "cell_type": "code",
   "execution_count": 58,
   "metadata": {},
   "outputs": [
    {
     "name": "stdout",
     "output_type": "stream",
     "text": [
      "3.52 µs ± 132 ns per loop (mean ± std. dev. of 7 runs, 100000 loops each)\n",
      "16.2 µs ± 1.13 µs per loop (mean ± std. dev. of 7 runs, 100000 loops each)\n"
     ]
    }
   ],
   "source": [
    "#Numpy sum vs Python sum\n",
    "%timeit np.sum(arr11)\n",
    "%timeit sum(arr11)"
   ]
  },
  {
   "cell_type": "code",
   "execution_count": 59,
   "metadata": {},
   "outputs": [
    {
     "name": "stdout",
     "output_type": "stream",
     "text": [
      "3.65 µs ± 181 ns per loop (mean ± std. dev. of 7 runs, 100000 loops each)\n",
      "10.9 µs ± 350 ns per loop (mean ± std. dev. of 7 runs, 100000 loops each)\n"
     ]
    }
   ],
   "source": [
    "#NumPy max vs Python max\n",
    "%timeit np.max(arr11)\n",
    "%timeit max(arr11)"
   ]
  },
  {
   "cell_type": "code",
   "execution_count": 60,
   "metadata": {},
   "outputs": [
    {
     "name": "stdout",
     "output_type": "stream",
     "text": [
      "4.37 µs ± 282 ns per loop (mean ± std. dev. of 7 runs, 100000 loops each)\n",
      "10.8 µs ± 533 ns per loop (mean ± std. dev. of 7 runs, 100000 loops each)\n"
     ]
    }
   ],
   "source": [
    "#NumPy min vs Python min\n",
    "%timeit np.min(arr11)\n",
    "%timeit min(arr11)"
   ]
  },
  {
   "cell_type": "markdown",
   "metadata": {},
   "source": [
    "## Requirement 24"
   ]
  },
  {
   "cell_type": "markdown",
   "metadata": {},
   "source": [
    "#### Use the file president_heights.csv to produce a histogram of U.S. President height information"
   ]
  },
  {
   "cell_type": "code",
   "execution_count": 61,
   "metadata": {
    "scrolled": false
   },
   "outputs": [
    {
     "name": "stdout",
     "output_type": "stream",
     "text": [
      "[189 170 189 163 183 171 185 168 173 183 173 173 175 178 183 193 178 173\n",
      " 174 183 183 168 170 178 182 180 183 178 182 188 175 179 183 193 182 183\n",
      " 177 185 188 188 182 185]\n"
     ]
    }
   ],
   "source": [
    "data = pd.read_csv('president_heights.csv')\n",
    "heights = np.array(data['height(cm)'])\n",
    "print(heights)"
   ]
  },
  {
   "cell_type": "code",
   "execution_count": 62,
   "metadata": {},
   "outputs": [],
   "source": [
    "%matplotlib inline\n",
    "import matplotlib.pyplot as plt\n",
    "import seaborn; seaborn.set()"
   ]
  },
  {
   "cell_type": "code",
   "execution_count": 63,
   "metadata": {},
   "outputs": [
    {
     "data": {
      "image/png": "[encoded data removed]",
      "text/plain": [
       "<Figure size 432x288 with 1 Axes>"
      ]
     },
     "metadata": {},
     "output_type": "display_data"
    }
   ],
   "source": [
    "plt.hist(heights)\n",
    "plt.title('Height Distribution of US Presidents')\n",
    "plt.xlabel('height (cm)')\n",
    "plt.ylabel('number');"
   ]
  },
  {
   "cell_type": "markdown",
   "metadata": {},
   "source": [
    "## Requirement 25"
   ]
  },
  {
   "cell_type": "markdown",
   "metadata": {},
   "source": [
    "#### Use broadcasting and matplotlib to produce a plot of a two dimensional array"
   ]
  },
  {
   "cell_type": "code",
   "execution_count": 64,
   "metadata": {},
   "outputs": [
    {
     "name": "stdout",
     "output_type": "stream",
     "text": [
      "[ 0  2  4  6  8 10 12 14 16 18 20 22 24 26 28 30 32 34 36 38 40 42 44 46\n",
      " 48 50 52 54 56 58 60 62 64 66 68 70 72 74 76 78 80 82 84 86 88 90 92 94\n",
      " 96 98]\n",
      "[[  0]\n",
      " [  2]\n",
      " [  4]\n",
      " [  6]\n",
      " [  8]\n",
      " [ 10]\n",
      " [ 12]\n",
      " [ 14]\n",
      " [ 16]\n",
      " [ 18]\n",
      " [ 20]\n",
      " [ 22]\n",
      " [ 24]\n",
      " [ 26]\n",
      " [ 28]\n",
      " [ 30]\n",
      " [ 32]\n",
      " [ 34]\n",
      " [ 36]\n",
      " [ 38]\n",
      " [ 40]\n",
      " [ 42]\n",
      " [ 44]\n",
      " [ 46]\n",
      " [ 48]\n",
      " [ 50]\n",
      " [ 52]\n",
      " [ 54]\n",
      " [ 56]\n",
      " [ 58]\n",
      " [ 60]\n",
      " [ 62]\n",
      " [ 64]\n",
      " [ 66]\n",
      " [ 68]\n",
      " [ 70]\n",
      " [ 72]\n",
      " [ 74]\n",
      " [ 76]\n",
      " [ 78]\n",
      " [ 80]\n",
      " [ 82]\n",
      " [ 84]\n",
      " [ 86]\n",
      " [ 88]\n",
      " [ 90]\n",
      " [ 92]\n",
      " [ 94]\n",
      " [ 96]\n",
      " [ 98]\n",
      " [100]\n",
      " [102]\n",
      " [104]\n",
      " [106]\n",
      " [108]\n",
      " [110]\n",
      " [112]\n",
      " [114]\n",
      " [116]\n",
      " [118]\n",
      " [120]\n",
      " [122]\n",
      " [124]\n",
      " [126]\n",
      " [128]\n",
      " [130]\n",
      " [132]\n",
      " [134]\n",
      " [136]\n",
      " [138]\n",
      " [140]\n",
      " [142]\n",
      " [144]\n",
      " [146]\n",
      " [148]\n",
      " [150]\n",
      " [152]\n",
      " [154]\n",
      " [156]\n",
      " [158]\n",
      " [160]\n",
      " [162]\n",
      " [164]\n",
      " [166]\n",
      " [168]\n",
      " [170]\n",
      " [172]\n",
      " [174]\n",
      " [176]\n",
      " [178]\n",
      " [180]\n",
      " [182]\n",
      " [184]\n",
      " [186]\n",
      " [188]\n",
      " [190]\n",
      " [192]\n",
      " [194]\n",
      " [196]\n",
      " [198]\n",
      " [200]\n",
      " [202]\n",
      " [204]\n",
      " [206]\n",
      " [208]\n",
      " [210]\n",
      " [212]\n",
      " [214]\n",
      " [216]\n",
      " [218]\n",
      " [220]\n",
      " [222]\n",
      " [224]\n",
      " [226]\n",
      " [228]\n",
      " [230]\n",
      " [232]\n",
      " [234]\n",
      " [236]\n",
      " [238]\n",
      " [240]\n",
      " [242]\n",
      " [244]\n",
      " [246]\n",
      " [248]\n",
      " [250]\n",
      " [252]\n",
      " [254]\n",
      " [256]\n",
      " [258]\n",
      " [260]\n",
      " [262]\n",
      " [264]\n",
      " [266]\n",
      " [268]\n",
      " [270]\n",
      " [272]\n",
      " [274]\n",
      " [276]\n",
      " [278]\n",
      " [280]\n",
      " [282]\n",
      " [284]\n",
      " [286]\n",
      " [288]\n",
      " [290]\n",
      " [292]\n",
      " [294]\n",
      " [296]\n",
      " [298]\n",
      " [300]\n",
      " [302]\n",
      " [304]\n",
      " [306]\n",
      " [308]\n",
      " [310]\n",
      " [312]\n",
      " [314]\n",
      " [316]\n",
      " [318]\n",
      " [320]\n",
      " [322]\n",
      " [324]\n",
      " [326]\n",
      " [328]\n",
      " [330]\n",
      " [332]\n",
      " [334]\n",
      " [336]\n",
      " [338]\n",
      " [340]\n",
      " [342]\n",
      " [344]\n",
      " [346]\n",
      " [348]\n",
      " [350]\n",
      " [352]\n",
      " [354]\n",
      " [356]\n",
      " [358]\n",
      " [360]\n",
      " [362]\n",
      " [364]\n",
      " [366]\n",
      " [368]\n",
      " [370]\n",
      " [372]\n",
      " [374]\n",
      " [376]\n",
      " [378]\n",
      " [380]\n",
      " [382]\n",
      " [384]\n",
      " [386]\n",
      " [388]\n",
      " [390]\n",
      " [392]\n",
      " [394]\n",
      " [396]\n",
      " [398]\n",
      " [400]\n",
      " [402]\n",
      " [404]\n",
      " [406]\n",
      " [408]\n",
      " [410]\n",
      " [412]\n",
      " [414]\n",
      " [416]\n",
      " [418]\n",
      " [420]\n",
      " [422]\n",
      " [424]\n",
      " [426]\n",
      " [428]\n",
      " [430]\n",
      " [432]\n",
      " [434]\n",
      " [436]\n",
      " [438]\n",
      " [440]\n",
      " [442]\n",
      " [444]\n",
      " [446]\n",
      " [448]\n",
      " [450]\n",
      " [452]\n",
      " [454]\n",
      " [456]\n",
      " [458]\n",
      " [460]\n",
      " [462]\n",
      " [464]\n",
      " [466]\n",
      " [468]\n",
      " [470]\n",
      " [472]\n",
      " [474]\n",
      " [476]\n",
      " [478]\n",
      " [480]\n",
      " [482]\n",
      " [484]\n",
      " [486]\n",
      " [488]\n",
      " [490]\n",
      " [492]\n",
      " [494]\n",
      " [496]\n",
      " [498]]\n"
     ]
    }
   ],
   "source": [
    "x = np.arange(0, 100, 2)\n",
    "y = np.arange(0, 500, 2)[:, np.newaxis]\n",
    "print(x)\n",
    "print(y)\n",
    "\n",
    "z = np.sin(x) ** 10 + np.cos(10 + y * x) * np.cos(x)"
   ]
  },
  {
   "cell_type": "code",
   "execution_count": 65,
   "metadata": {},
   "outputs": [
    {
     "data": {
      "image/png": "[encoded data removed]",
      "text/plain": [
       "<Figure size 432x288 with 2 Axes>"
      ]
     },
     "metadata": {},
     "output_type": "display_data"
    }
   ],
   "source": [
    "plt.imshow(z, origin='lower', extent=[0, 5, 0, 5], \n",
    "          cmap = 'viridis')\n",
    "plt.colorbar();"
   ]
  },
  {
   "cell_type": "markdown",
   "metadata": {},
   "source": [
    "## Requirement 26"
   ]
  },
  {
   "cell_type": "markdown",
   "metadata": {},
   "source": [
    "I must admit that I still don't fully understand the concept of vectorized operations and universal functions. Due to my inexperience with coding and lack of knowledge in the subject area, phrases like, \"push the loop into the compiled layer that underlies NumPy,\" don't actually mean anything to me. Otherwise, I enjoyed this assignment and appreciate that we are now getting closer to analyzing and manipulating data sets in a fashion that I can imagine being useful to someone working as a data scientist. "
   ]
  }
 ],
 "metadata": {
  "kernelspec": {
   "display_name": "Python 3",
   "language": "python",
   "name": "python3"
  },
  "language_info": {
   "codemirror_mode": {
    "name": "ipython",
    "version": 3
   },
   "file_extension": ".py",
   "mimetype": "text/x-python",
   "name": "python",
   "nbconvert_exporter": "python",
   "pygments_lexer": "ipython3",
   "version": "3.7.7"
  }
 },
 "nbformat": 4,
 "nbformat_minor": 4
}
