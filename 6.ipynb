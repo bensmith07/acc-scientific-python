{
 "cells": [
  {
   "cell_type": "markdown",
   "metadata": {},
   "source": [
    "# This is Assignment 06 - Ben Smith"
   ]
  },
  {
   "cell_type": "markdown",
   "metadata": {},
   "source": [
    "## Requirement 4"
   ]
  },
  {
   "cell_type": "code",
   "execution_count": 30,
   "metadata": {},
   "outputs": [
    {
     "name": "stdout",
     "output_type": "stream",
     "text": [
      "Here is list_1:\n",
      "[77, 84, 99, 3, 7, 43, 44, 82, 90, 13, 2, 4, 8, 31, 19, 0, 1, 2, 4, 5]\n",
      "The length of list_1 is:\n",
      "20\n",
      "Here is list_1 after three more numbers have been appended:\n",
      "[77, 84, 99, 3, 7, 43, 44, 82, 90, 13, 2, 4, 8, 31, 19, 0, 1, 2, 4, 5, 11, 12, 14]\n",
      "Here is list_1 with a literal list of seven numbers appended:\n",
      "[77, 84, 99, 3, 7, 43, 44, 82, 90, 13, 2, 4, 8, 31, 19, 0, 1, 2, 4, 5, 11, 12, 14, 98, 97, 96, 95, 94, 93, 92, 91]\n",
      "Here is list_1 after sorting:\n",
      "[0, 1, 2, 2, 3, 4, 4, 5, 7, 8, 11, 12, 13, 14, 19, 31, 43, 44, 77, 82, 84, 90, 99]\n"
     ]
    }
   ],
   "source": [
    "list_1 = [77, 84, 99, 3, 7, 43, 44, 82, 90, 13, 2, 4, 8, 31, 19, 0, 1, 2, 4, 5]\n",
    "\n",
    "print('Here is list_1:')\n",
    "print(list_1)\n",
    "\n",
    "# i: output the length of list_1\n",
    "\n",
    "print('The length of list_1 is:')\n",
    "print(len(list_1))\n",
    "\n",
    "# ii. append three numbers to the list between 0 and 99\n",
    "\n",
    "list_1.append(11) \n",
    "list_1.append(12) \n",
    "list_1.append(14)\n",
    "\n",
    "print('Here is list_1 after three more numbers have been appended:')\n",
    "print(list_1)\n",
    "\n",
    "# use the addition operator to apend a literal list of 7 numbers between 0 and 99 to list_1\n",
    "\n",
    "print('Here is list_1 with a literal list of seven numbers appended:')\n",
    "print(list_1 + [98, 97, 96, 95, 94, 93, 92, 91])\n",
    "\n",
    "# sort list_1\n",
    "\n",
    "list_1.sort()\n",
    "\n",
    "print('Here is list_1 after sorting:')\n",
    "print(list_1)"
   ]
  },
  {
   "cell_type": "markdown",
   "metadata": {},
   "source": [
    "## Requirement 5"
   ]
  },
  {
   "cell_type": "code",
   "execution_count": 23,
   "metadata": {},
   "outputs": [
    {
     "name": "stdout",
     "output_type": "stream",
     "text": [
      "The 4th element of list_1 is 2 .\n",
      "The 15th element of list_1 is 19 .\n",
      "The 3rd element from the end of list_1 is 84 .\n",
      "The 7th element from the end of list_1 is 43 .\n",
      "The first 4 elements of list_1 are [0, 1, 2, 2] .\n",
      "The last 5 elements of list_1 are [77, 82, 84, 90, 99] .\n",
      "The elements from list_1 are presented here in reverse order: [99, 90, 84, 82, 77, 44, 43, 31, 19, 14, 13, 12, 11, 8, 7, 5, 4, 4, 3, 2, 2, 1, 0] .\n",
      "Here is list_1 after the 14th value has been set to -99: [0, 1, 2, 2, 3, 4, 4, 5, 7, 8, 11, 12, 13, -99, 19, 31, 43, 44, 77, 82, 84, 90, 99] .\n",
      "Here is every other element from list_1, starting with the first element: [0, 2, 3, 4, 7, 11, 13, 19, 43, 77, 84, 99] .\n",
      "Here is list_1 after the 9th through 15th elements have all been set to -77: [0, 1, 2, 2, 3, 4, 4, 5, -77, -77, -77, -77, -77, -77, -77, 19, 31, 43, 44, 77, 82, 84, 90, 99] .\n"
     ]
    }
   ],
   "source": [
    "# Show specific values from list_1\n",
    "\n",
    "list_1 = [0, 1, 2, 2, 3, 4, 4, 5, 7, 8, 11, 12, 13, 14, 19, 31, 43, 44, 77, 82, 84, 90, 99]\n",
    "\n",
    "print('The 4th element of list_1 is',list_1[3],'.')\n",
    "print('The 15th element of list_1 is',list_1[14],'.')\n",
    "print('The 3rd element from the end of list_1 is',list_1[-3],'.')\n",
    "print('The 7th element from the end of list_1 is',list_1[-7],'.')\n",
    "print('The first 4 elements of list_1 are',list_1[0:4],'.')\n",
    "print('The last 5 elements of list_1 are',list_1[-5:],'.')\n",
    "print('The elements from list_1 are presented here in reverse order:',list_1[::-1],'.')\n",
    "\n",
    "# Set specific values in list_1\n",
    "\n",
    "list_1[13] = -99\n",
    "\n",
    "print('Here is list_1 after the 14th value has been set to -99:',list_1,'.')\n",
    "\n",
    "# Show more specific values from list_1\n",
    "\n",
    "print('Here is every other element from list_1, starting with the first element:',list_1[::2],'.')\n",
    "\n",
    "# Set more specific values in list_1\n",
    "\n",
    "list_1[8:14] = [-77, -77, -77, -77, -77, -77, -77]\n",
    "\n",
    "print('Here is list_1 after the 9th through 15th elements have all been set to -77:',list_1,'.')\n"
   ]
  },
  {
   "cell_type": "markdown",
   "metadata": {},
   "source": [
    "## Requirement 6"
   ]
  },
  {
   "cell_type": "code",
   "execution_count": 31,
   "metadata": {},
   "outputs": [
    {
     "ename": "TypeError",
     "evalue": "'tuple' object does not support item assignment",
     "output_type": "error",
     "traceback": [
      "\u001b[1;31m---------------------------------------------------------------------------\u001b[0m",
      "\u001b[1;31mTypeError\u001b[0m                                 Traceback (most recent call last)",
      "\u001b[1;32m<ipython-input-31-a5dace5a5a93>\u001b[0m in \u001b[0;36m<module>\u001b[1;34m\u001b[0m\n\u001b[0;32m      5\u001b[0m \u001b[1;31m# Attempt to set the 3rd value to -33.\u001b[0m\u001b[1;33m\u001b[0m\u001b[1;33m\u001b[0m\u001b[1;33m\u001b[0m\u001b[0m\n\u001b[0;32m      6\u001b[0m \u001b[1;33m\u001b[0m\u001b[0m\n\u001b[1;32m----> 7\u001b[1;33m \u001b[0mtuple_1\u001b[0m\u001b[1;33m[\u001b[0m\u001b[1;36m2\u001b[0m\u001b[1;33m]\u001b[0m \u001b[1;33m=\u001b[0m \u001b[1;33m-\u001b[0m\u001b[1;36m33\u001b[0m\u001b[1;33m\u001b[0m\u001b[1;33m\u001b[0m\u001b[0m\n\u001b[0m\u001b[0;32m      8\u001b[0m \u001b[1;33m\u001b[0m\u001b[0m\n\u001b[0;32m      9\u001b[0m \u001b[1;31m# This will create an error because tuples are immutable.\u001b[0m\u001b[1;33m\u001b[0m\u001b[1;33m\u001b[0m\u001b[1;33m\u001b[0m\u001b[0m\n",
      "\u001b[1;31mTypeError\u001b[0m: 'tuple' object does not support item assignment"
     ]
    }
   ],
   "source": [
    "# Create a tuple containing 7 arbitrary numbers\n",
    "\n",
    "tuple_1 = (45, 76, 555, -54, 2, 37, -77)\n",
    "\n",
    "# Attempt to set the 3rd value to -33.\n",
    "\n",
    "tuple_1[2] = -33\n",
    "\n",
    "# This will create an error because tuples are immutable."
   ]
  },
  {
   "cell_type": "code",
   "execution_count": 34,
   "metadata": {},
   "outputs": [
    {
     "ename": "AttributeError",
     "evalue": "'tuple' object has no attribute 'append'",
     "output_type": "error",
     "traceback": [
      "\u001b[1;31m---------------------------------------------------------------------------\u001b[0m",
      "\u001b[1;31mAttributeError\u001b[0m                            Traceback (most recent call last)",
      "\u001b[1;32m<ipython-input-34-085b65ad7c0e>\u001b[0m in \u001b[0;36m<module>\u001b[1;34m\u001b[0m\n\u001b[0;32m      1\u001b[0m \u001b[1;31m# Attempt to append the value -22 to the tuple.\u001b[0m\u001b[1;33m\u001b[0m\u001b[1;33m\u001b[0m\u001b[1;33m\u001b[0m\u001b[0m\n\u001b[0;32m      2\u001b[0m \u001b[1;33m\u001b[0m\u001b[0m\n\u001b[1;32m----> 3\u001b[1;33m \u001b[0mtuple_1\u001b[0m\u001b[1;33m.\u001b[0m\u001b[0mappend\u001b[0m\u001b[1;33m(\u001b[0m\u001b[1;33m-\u001b[0m\u001b[1;36m22\u001b[0m\u001b[1;33m)\u001b[0m\u001b[1;33m\u001b[0m\u001b[1;33m\u001b[0m\u001b[0m\n\u001b[0m\u001b[0;32m      4\u001b[0m \u001b[1;33m\u001b[0m\u001b[0m\n\u001b[0;32m      5\u001b[0m \u001b[1;31m# This will also create an error because tuples are immutable.\u001b[0m\u001b[1;33m\u001b[0m\u001b[1;33m\u001b[0m\u001b[1;33m\u001b[0m\u001b[0m\n",
      "\u001b[1;31mAttributeError\u001b[0m: 'tuple' object has no attribute 'append'"
     ]
    }
   ],
   "source": [
    "tuple_1 = (45, 76, 555, -54, 2, 37, -77)\n",
    "\n",
    "# Attempt to append the value -22 to the tuple. \n",
    "\n",
    "tuple_1.append(-22)\n",
    "\n",
    "# This will also create an error because tuples are immutable. "
   ]
  },
  {
   "cell_type": "markdown",
   "metadata": {},
   "source": [
    "## Requirement 7"
   ]
  },
  {
   "cell_type": "code",
   "execution_count": 43,
   "metadata": {},
   "outputs": [
    {
     "name": "stdout",
     "output_type": "stream",
     "text": [
      "Here is the dictionary called players_football:\n",
      "{'Quarterback': 'Smith', 'Running Back': 'Johnson', 'Wide Receiver': 'Martin', 'Center': 'Hamilton', 'Tight End': 'Stanton', 'Right Guard': 'Sherman', 'Left Guard': 'Zaslavsky', 'Tailback': 'Karr', 'Safety': 'Psonowsky'}\n",
      "After changing a key:value pair, the new quarterback is Manning .\n",
      "After adding a key:value pair, there is now a Middle Linebacker named Bronson .\n"
     ]
    }
   ],
   "source": [
    "# Create a dictionary of sports players and their positions; populate the dictionary with player positions as keys and \n",
    "# player names as values. \n",
    "\n",
    "players_football = {'Quarterback':'Smith', 'Running Back':'Johnson', 'Wide Receiver':'Martin', 'Center':'Hamilton', 'Tight End':'Stanton', 'Right Guard':'Sherman', 'Left Guard':'Zaslavsky', 'Tailback':'Karr', 'Safety':'Psonowsky'}\n",
    "\n",
    "print('Here is the dictionary called players_football:')\n",
    "print(players_football)\n",
    "\n",
    "# Change a key:value pair\n",
    "\n",
    "players_football['Quarterback'] = 'Manning'\n",
    "\n",
    "print('After changing a key:value pair, the new quarterback is',players_football['Quarterback'],'.')\n",
    "\n",
    "# Add a key:value pair\n",
    "\n",
    "players_football['Middle Linebacker'] = 'Bronson'\n",
    "\n",
    "print('After adding a key:value pair, there is now a Middle Linebacker named',players_football['Middle Linebacker'],'.')"
   ]
  },
  {
   "cell_type": "markdown",
   "metadata": {},
   "source": [
    "## Requirement 8"
   ]
  },
  {
   "cell_type": "code",
   "execution_count": 8,
   "metadata": {},
   "outputs": [
    {
     "name": "stdout",
     "output_type": "stream",
     "text": [
      "The names appearing in either set are:\n",
      "{'benjamin', 'brandon', 'luke', 'tim', 'jeb', 'clayton', 'ethan', 'john', 'jack', 'morgan', 'jedidiah', 'matt', 'gabriel', 'jim', 'corey', 'bob'}\n",
      "The names appearing in both sets are:\n",
      "{'tim', 'jack', 'bob', 'john'}\n",
      "The names appearing in hatfields but not mccoys are:\n",
      "{'matt', 'jedidiah', 'luke', 'jim', 'jeb', 'clayton'}\n",
      "The names appearing in only one set are:\n",
      "{'morgan', 'benjamin', 'jedidiah', 'brandon', 'matt', 'gabriel', 'luke', 'jim', 'corey', 'jeb', 'clayton', 'ethan'}\n"
     ]
    }
   ],
   "source": [
    "hatfields = {'jim', 'john', 'jack', 'jeb', 'jedidiah', 'clayton', 'tim', 'bob', 'matt', 'luke'}\n",
    "mccoys = {'brandon', 'morgan', 'corey', 'benjamin', 'ethan', 'gabriel', 'tim', 'bob', 'john', 'jack'}\n",
    "\n",
    "# Union: shows items appearing in either set\n",
    "print('The names appearing in either set are:')\n",
    "print(hatfields | mccoys)\n",
    "\n",
    "# Intersection: shows items appearing in both sets\n",
    "print('The names appearing in both sets are:')\n",
    "print(hatfields & mccoys)\n",
    "\n",
    "# Difference: shows items appearing in the first set but not the second\n",
    "print('The names appearing in hatfields but not mccoys are:')\n",
    "print(hatfields - mccoys)\n",
    "\n",
    "# Symmetric_difference: shows items appearing in only one set\n",
    "print('The names appearing in only one set are:')\n",
    "print(hatfields ^ mccoys)"
   ]
  },
  {
   "cell_type": "markdown",
   "metadata": {},
   "source": [
    "## Requirement 9"
   ]
  },
  {
   "cell_type": "code",
   "execution_count": 6,
   "metadata": {},
   "outputs": [
    {
     "name": "stdout",
     "output_type": "stream",
     "text": [
      "Heat Category 5\n"
     ]
    }
   ],
   "source": [
    "temperature = 95\n",
    "\n",
    "if 90 <= temperature:\n",
    "    print('Heat Category 5')\n",
    "elif 88 <= temperature < 90:\n",
    "    print('Heat Category 4')\n",
    "elif 85 <= temperature < 88:\n",
    "    print('Heat Category 3')\n",
    "elif 82 <= temperature < 85:\n",
    "    print('Heat Category 2')\n",
    "elif 78 <= temperature < 82:\n",
    "    print('Heat Category 1')\n",
    "else:\n",
    "    print('Heat Category N/A')"
   ]
  },
  {
   "cell_type": "markdown",
   "metadata": {},
   "source": [
    "## Requirement 10"
   ]
  },
  {
   "cell_type": "code",
   "execution_count": 17,
   "metadata": {},
   "outputs": [
    {
     "name": "stdout",
     "output_type": "stream",
     "text": [
      "0 1 2 3 4 5 6 7 8 9 "
     ]
    }
   ],
   "source": [
    "# Demonstrate a for loop using a range\n",
    "for x in range(10):\n",
    "    print(x, end=' ')"
   ]
  },
  {
   "cell_type": "code",
   "execution_count": 19,
   "metadata": {},
   "outputs": [
    {
     "name": "stdout",
     "output_type": "stream",
     "text": [
      "1 5 7 9 12 "
     ]
    }
   ],
   "source": [
    "# Demonstrate a for loop using a list of contents\n",
    "for x in [1, 5, 7, 9, 12]:\n",
    "    print(x, end=' ')"
   ]
  },
  {
   "cell_type": "markdown",
   "metadata": {},
   "source": [
    "## Requirement 11"
   ]
  },
  {
   "cell_type": "code",
   "execution_count": 21,
   "metadata": {},
   "outputs": [
    {
     "name": "stdout",
     "output_type": "stream",
     "text": [
      "0 1 2 3 4 5 6 7 "
     ]
    }
   ],
   "source": [
    "# Demonstrate the use of a while loop with i = 0 to 7\n",
    "i = 0 \n",
    "while i < 8:\n",
    "    print(i, end=' ')\n",
    "    i += 1"
   ]
  },
  {
   "cell_type": "code",
   "execution_count": 22,
   "metadata": {},
   "outputs": [
    {
     "name": "stdout",
     "output_type": "stream",
     "text": [
      "1 2 3 4 5 6 7 "
     ]
    }
   ],
   "source": [
    "# Demonstrate the use of a while loop with i = 1 to 7\n",
    "i = 1 \n",
    "while i < 8:\n",
    "    print(i, end=' ')\n",
    "    i += 1"
   ]
  },
  {
   "cell_type": "markdown",
   "metadata": {},
   "source": [
    "## Requirement 12"
   ]
  },
  {
   "cell_type": "code",
   "execution_count": 2,
   "metadata": {},
   "outputs": [
    {
     "name": "stdout",
     "output_type": "stream",
     "text": [
      "The factorial of 5 is: 120 .\n"
     ]
    }
   ],
   "source": [
    "# Define a funtion that returns the factorial of a number\n",
    "def factorial(x):\n",
    "    if x == 1:\n",
    "        return x\n",
    "    else:\n",
    "        return x * factorial(x - 1)\n",
    "    \n",
    "print('The factorial of 5 is:',factorial(5),'.')"
   ]
  },
  {
   "cell_type": "markdown",
   "metadata": {},
   "source": [
    "## Requirement 13"
   ]
  },
  {
   "cell_type": "code",
   "execution_count": 17,
   "metadata": {},
   "outputs": [
    {
     "name": "stdout",
     "output_type": "stream",
     "text": [
      "veg_quantity = (6, 8, 10)\n",
      "veg_type = {'a': 'zuchinni', 'b': 'carrot', 'c': 'onion'}\n"
     ]
    }
   ],
   "source": [
    "def vegetables(*veg_quantity, **veg_type):\n",
    "    print('veg_quantity =', veg_quantity)\n",
    "    print('veg_type =', veg_type)\n",
    "    \n",
    "vegetables(6, 8, 10, a='zuchinni', b='carrot', c='onion')"
   ]
  },
  {
   "cell_type": "markdown",
   "metadata": {},
   "source": [
    "## Requirement 14"
   ]
  },
  {
   "cell_type": "code",
   "execution_count": 12,
   "metadata": {},
   "outputs": [
    {
     "name": "stdout",
     "output_type": "stream",
     "text": [
      " - Here is the list called cars:\n",
      "[{'type': 'suv', 'make': 'ford', 'model': 'escape'}, {'type': 'sedan', 'make': 'toyota', 'model': 'corolla'}, {'type': 'truck', 'make': 'chevy', 'model': 'colorado'}]\n",
      " - Here is the list after sorting alphabetically by type:\n",
      "[{'type': 'sedan', 'make': 'toyota', 'model': 'corolla'}, {'type': 'suv', 'make': 'ford', 'model': 'escape'}, {'type': 'truck', 'make': 'chevy', 'model': 'colorado'}]\n",
      " - Here is the list after sorting alphabetically by model:\n",
      "[{'type': 'truck', 'make': 'chevy', 'model': 'colorado'}, {'type': 'sedan', 'make': 'toyota', 'model': 'corolla'}, {'type': 'suv', 'make': 'ford', 'model': 'escape'}]\n"
     ]
    }
   ],
   "source": [
    "# Create a list that contains dictionaries\n",
    "\n",
    "cars = [{'type':'suv', 'make':'ford', 'model':'escape'}, {'type':'sedan', 'make':'toyota', 'model':'corolla'}, {'type':'truck', 'make':'chevy', 'model':'colorado'}]\n",
    "\n",
    "print(' - Here is the list called cars:')\n",
    "print(cars)\n",
    "\n",
    "# Pass the cars list to the sorted built-in function and use a lambda to sort the cars list\n",
    "\n",
    "print(' - Here is the list after sorting alphabetically by type:')\n",
    "print(sorted(cars, key=lambda item: item['type']))\n",
    "\n",
    "# Perform another sort on the cars list using a lambda and a different key\n",
    "\n",
    "print(' - Here is the list after sorting alphabetically by model:')\n",
    "print(sorted(cars, key=lambda item: item['model']))"
   ]
  },
  {
   "cell_type": "markdown",
   "metadata": {},
   "source": [
    "## Requirement 15"
   ]
  },
  {
   "cell_type": "code",
   "execution_count": 16,
   "metadata": {},
   "outputs": [
    {
     "name": "stdout",
     "output_type": "stream",
     "text": [
      "Here is the first block of code\n",
      "This error message is being displayed because there is something wrong with the first block of code.\n"
     ]
    }
   ],
   "source": [
    "# Demonstrate the use of a try and except statement\n",
    "\n",
    "try:\n",
    "    print('Here is the first block of code')\n",
    "    tuple_1 = (45, 76, 555, -54, 2, 37, -77)\n",
    "    tuple_1.append(1) # This will create an error because tuples are immutable\n",
    "except:\n",
    "    print('This error message is being displayed because there is something wrong with the first block of code.')"
   ]
  },
  {
   "cell_type": "markdown",
   "metadata": {},
   "source": [
    "## Requirement 16"
   ]
  },
  {
   "cell_type": "code",
   "execution_count": 14,
   "metadata": {},
   "outputs": [
    {
     "name": "stdout",
     "output_type": "stream",
     "text": [
      "How old are you?: 25\n",
      "Welcome old chap. Come on in!\n",
      "Thanks!\n"
     ]
    }
   ],
   "source": [
    "# Demonstrate the use of try, except, else, and finally statements\n",
    "\n",
    "try:\n",
    "    age = int(input('How old are you?: '))\n",
    "except: \n",
    "    print(\"Try again! Tell us your age by entering a number.\")\n",
    "else: \n",
    "    if age < 18:\n",
    "        print(\"Sorry, come back again when you're a little older.\")\n",
    "    else: \n",
    "        print(\"Welcome old chap. Come on in!\")\n",
    "finally:\n",
    "    print(\"Thanks!\")"
   ]
  },
  {
   "cell_type": "markdown",
   "metadata": {},
   "source": [
    "## Requirement 17"
   ]
  },
  {
   "cell_type": "markdown",
   "metadata": {},
   "source": [
    "Iterator indirection is a concept that allows Python to treat things as lists that are not actually lists. For eample, the\n",
    "range() iterator creates an object can be treated like a list. Creating a for loop such as \"for x in range(100)\" allows Python to perform some operation on each value in the range as long as that operation's return is valid, but does not require the system to explicitly create a list of all values 0 through 100 before performing the operation. This allows operations to use system memory more efficiently. "
   ]
  },
  {
   "cell_type": "markdown",
   "metadata": {},
   "source": [
    "## Requirement 18"
   ]
  },
  {
   "cell_type": "code",
   "execution_count": 6,
   "metadata": {},
   "outputs": [
    {
     "name": "stdout",
     "output_type": "stream",
     "text": [
      "0 dog\n",
      "1 cat\n",
      "2 bear\n",
      "3 lion\n",
      "4 tiger\n",
      "5 mongoose\n",
      "6 cobra\n",
      "7 rat\n",
      "8 mouse\n",
      "9 hawk\n"
     ]
    }
   ],
   "source": [
    "# Create a list of 10 animal species named animals_list \n",
    "\n",
    "animals_list = ['dog', 'cat', 'bear', 'lion', 'tiger', 'mongoose', 'cobra', 'rat', 'mouse', 'hawk']\n",
    "\n",
    "# Demonstrate the use of len() and iteration to print the index and values of the animals in the list.\n",
    "\n",
    "for i in range(len(animals_list)):\n",
    "    print(i, animals_list[i])"
   ]
  },
  {
   "cell_type": "markdown",
   "metadata": {},
   "source": [
    "## Requirement 19"
   ]
  },
  {
   "cell_type": "code",
   "execution_count": 9,
   "metadata": {},
   "outputs": [
    {
     "name": "stdout",
     "output_type": "stream",
     "text": [
      "0 dog\n",
      "1 cat\n",
      "2 bear\n",
      "3 lion\n",
      "4 tiger\n",
      "5 mongoose\n",
      "6 cobra\n",
      "7 rat\n",
      "8 mouse\n",
      "9 hawk\n"
     ]
    }
   ],
   "source": [
    "# Use the enumerate iterator to perform the same actions as Requirement 18\n",
    "\n",
    "animals_list = ['dog', 'cat', 'bear', 'lion', 'tiger', 'mongoose', 'cobra', 'rat', 'mouse', 'hawk']\n",
    "\n",
    "for i, val in enumerate(animals_list):\n",
    "    print(i, val)"
   ]
  },
  {
   "cell_type": "markdown",
   "metadata": {},
   "source": [
    "## Requirement 20"
   ]
  },
  {
   "cell_type": "code",
   "execution_count": 13,
   "metadata": {},
   "outputs": [
    {
     "name": "stdout",
     "output_type": "stream",
     "text": [
      "red dog\n",
      "orange cat\n",
      "green bear\n",
      "blue lion\n",
      "indigo tiger\n",
      "violet mongoose\n",
      "purple cobra\n",
      "pink rat\n",
      "brown mouse\n",
      "black hawk\n"
     ]
    }
   ],
   "source": [
    "# Create a list of 10 colors named colors_list\n",
    "# Use the zip iterator to print the values of the animals_list and colors_list within the same for loop\n",
    "\n",
    "colors_list = ['red', 'orange', 'green', 'blue', 'indigo', 'violet', 'purple', 'pink', 'brown', 'black']\n",
    "animals_list = ['dog', 'cat', 'bear', 'lion', 'tiger', 'mongoose', 'cobra', 'rat', 'mouse', 'hawk']\n",
    "\n",
    "for color, animal in zip(colors_list, animals_list):\n",
    "    print(color, animal)"
   ]
  },
  {
   "cell_type": "markdown",
   "metadata": {},
   "source": [
    "## Requirement 21"
   ]
  },
  {
   "cell_type": "code",
   "execution_count": 32,
   "metadata": {},
   "outputs": [
    {
     "name": "stdout",
     "output_type": "stream",
     "text": [
      "0 10 20 30 40 50 60 70 80 90 "
     ]
    }
   ],
   "source": [
    "# Create a lambda named times_ten that multiplies the variable x by 10. \n",
    "\n",
    "times_ten = lambda x: x * 10 \n",
    "\n",
    "# Use the map iterator and range(10) to evaluate the lambda in a for loop.\n",
    "\n",
    "for val in map(times_ten, range(10)):\n",
    "    print (val, end=' ')"
   ]
  },
  {
   "cell_type": "markdown",
   "metadata": {},
   "source": [
    "## Requirement 22"
   ]
  },
  {
   "cell_type": "code",
   "execution_count": 62,
   "metadata": {},
   "outputs": [
    {
     "name": "stdout",
     "output_type": "stream",
     "text": [
      "0 3 6 9 12 15 18 21 24 27 "
     ]
    }
   ],
   "source": [
    "# Create a lambda named by_three that returns true if the variable x is evenly divisible by 3. \n",
    "\n",
    "by_three = lambda x: x % 3 == 0\n",
    "\n",
    "# Use the filter iterator and range(30) to evaluate the lambda in a for loop.\n",
    "\n",
    "for val in filter(by_three, range(30)):\n",
    "    print(val, end=' ')"
   ]
  },
  {
   "cell_type": "markdown",
   "metadata": {},
   "source": [
    "## Requirement 23"
   ]
  },
  {
   "cell_type": "markdown",
   "metadata": {},
   "source": [
    "This assignment was far more challenging than the first. The requirements here were far more complicated, and many of the examples in the textbook were too simplistic to provide a lot of meaninful assistance. For example, while I was able to use the args/kwargs example from the textbook to produce a function that met the assignment requirements, I'm afraid I still don't understand what a functional real-world usage of this method might be. Another place I had difficulty was in learning how to use lambdas. I was able to create the by_three function using the def method rather easily, but for some reason struggled to translate that into the lambda syntax (though it seems rather simple now). \n",
    "\n",
    "My hope is that, moving forward in the course, we will begin to apply these techniques in practical exercises that will help me to internalize them and better understand their various uses. "
   ]
  }
 ],
 "metadata": {
  "kernelspec": {
   "display_name": "Python 3",
   "language": "python",
   "name": "python3"
  },
  "language_info": {
   "codemirror_mode": {
    "name": "ipython",
    "version": 3
   },
   "file_extension": ".py",
   "mimetype": "text/x-python",
   "name": "python",
   "nbconvert_exporter": "python",
   "pygments_lexer": "ipython3",
   "version": "3.7.7"
  }
 },
 "nbformat": 4,
 "nbformat_minor": 4
}
