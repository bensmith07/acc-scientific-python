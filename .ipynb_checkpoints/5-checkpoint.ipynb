{
 "cells": [
  {
   "cell_type": "markdown",
   "metadata": {},
   "source": [
    "# This is Assignment 5 - Ben Smith"
   ]
  },
  {
   "cell_type": "markdown",
   "metadata": {},
   "source": [
    "## Requirement 4"
   ]
  },
  {
   "cell_type": "code",
   "execution_count": 16,
   "metadata": {},
   "outputs": [
    {
     "name": "stdout",
     "output_type": "stream",
     "text": [
      "16 = 8 + 8\n",
      "1 = 8 - 7\n",
      "30 = 6 * 5\n",
      "1.25 = 5 / 4\n",
      "1 = 5 // 4\n",
      "625 = 5 ** 4\n"
     ]
    }
   ],
   "source": [
    "#Demonstrate Arithmetic Operations\n",
    "\n",
    "x = 8 + 8 \n",
    "print(x, \"= 8 + 8\")\n",
    "x = 8 - 7\n",
    "print (x, \"= 8 - 7\")\n",
    "x = 6 * 5\n",
    "print(x, \"= 6 * 5\")\n",
    "x = 5 / 4\n",
    "print(x, \"= 5 / 4\")\n",
    "x = 5 // 4\n",
    "print(x, \"= 5 // 4\")\n",
    "x = 5 ** 4\n",
    "print(x, \"= 5 ** 4\")"
   ]
  },
  {
   "cell_type": "markdown",
   "metadata": {},
   "source": [
    "## Requirement 5"
   ]
  },
  {
   "cell_type": "code",
   "execution_count": 29,
   "metadata": {},
   "outputs": [
    {
     "name": "stdout",
     "output_type": "stream",
     "text": [
      "5 == 2 + 3 is True\n",
      "5 != 2 = 3 is False\n",
      "2 < 3 is True\n",
      "2 > 3 is False\n",
      "4 <= 7 is True\n",
      "4 >= 7 is False\n"
     ]
    }
   ],
   "source": [
    "#Demonstrate Comparison Operations\n",
    "\n",
    "x = (5 == 2 + 3)\n",
    "print('5 == 2 + 3 is', x) #True\n",
    "x = (5 != 2 + 3)\n",
    "print('5 != 2 = 3 is', x) #False\n",
    "x = (2 < 3)\n",
    "print('2 < 3 is', x) #True\n",
    "x = (2 > 3)\n",
    "print('2 > 3 is', x) #False\n",
    "x = (4 <= 7)\n",
    "print('4 <= 7 is', x) #True\n",
    "x = (4 >= 7)\n",
    "print('4 >= 7 is', x) #False"
   ]
  },
  {
   "cell_type": "markdown",
   "metadata": {},
   "source": [
    "## Requirement 6"
   ]
  },
  {
   "cell_type": "code",
   "execution_count": 2,
   "metadata": {
    "scrolled": true
   },
   "outputs": [
    {
     "name": "stdout",
     "output_type": "stream",
     "text": [
      "16 = 8 + 8\n",
      "1 = 8 - 7\n",
      "30 = 6 * 5\n",
      "1.25 = 5 / 4\n",
      "1 = 5 // 4\n",
      "625 = 5 ** 4\n",
      "5 == 2 + 3 is True\n",
      "5 != 2 = 3 is False\n",
      "2 < 3 is True\n",
      "2 > 3 is False\n",
      "4 <= 7 is True\n",
      "4 >= 7 is False\n"
     ]
    }
   ],
   "source": [
    "# Import a file\n",
    "\n",
    "import operators"
   ]
  },
  {
   "cell_type": "markdown",
   "metadata": {},
   "source": [
    "## Requirement 7"
   ]
  },
  {
   "cell_type": "code",
   "execution_count": 35,
   "metadata": {
    "scrolled": true
   },
   "outputs": [
    {
     "name": "stdout",
     "output_type": "stream",
     "text": [
      "[2, 4, 6, 18, 20, 24, 30, 32, 34, 40]\n",
      "[1, 3, 5, 17, 19, 21, 27, 31, 33, 35]\n"
     ]
    }
   ],
   "source": [
    "# Create two lists, list_1 and list_2, populated with arbitrary numbers each, some even and some odd in each list. \n",
    "\n",
    "list_1 = [1, 2, 3, 4, 5, 6, 17, 18, 19, 20]\n",
    "list_2 = [21, 24, 27, 30, 31, 32, 33, 34, 35, 40]\n",
    "\n",
    "# Create two more lists and programatically populate them using numbers from list_1 and list_2. \n",
    "\n",
    "list_even = []\n",
    "list_odd = []\n",
    "\n",
    "for n in list_1: \n",
    "    if (n % 2 == 0):\n",
    "        list_even.append(n) #This appends the even numbers from list_1 to list_even.\n",
    "        \n",
    "for n in list_2:\n",
    "    if (n % 2 == 0):\n",
    "        list_even.append(n) #This appends the even numbers from list_2 to list_even.\n",
    "        \n",
    "for n in list_1:\n",
    "    if (n% 2 == 1):\n",
    "        list_odd.append(n) #This appends the odd numbers from list_1 to list_odd.\n",
    "        \n",
    "for n in list_2:\n",
    "    if (n % 2 == 1):\n",
    "        list_odd.append(n) #The appends the odd numbers from list_2 to list_odd. \n",
    "        \n",
    "        \n",
    "print(list_even)\n",
    "print(list_odd)\n",
    "        \n",
    "        \n",
    "   \n",
    "        \n"
   ]
  },
  {
   "cell_type": "markdown",
   "metadata": {},
   "source": [
    "## Requirement 8"
   ]
  },
  {
   "cell_type": "code",
   "execution_count": 36,
   "metadata": {
    "scrolled": true
   },
   "outputs": [
    {
     "name": "stdout",
     "output_type": "stream",
     "text": [
      "False\n",
      "True\n"
     ]
    }
   ],
   "source": [
    "# Demonstrate the use of the method is_integer() to test if numbers qualify as integers.\n",
    "\n",
    "x = 7.34\n",
    "print(x.is_integer()) #This returns False because 7.34 is not an integer.\n",
    "\n",
    "\n",
    "x = 734.0\n",
    "print(x.is_integer()) #This returns True because 734 is an integer. \n",
    "\n",
    "\n"
   ]
  },
  {
   "cell_type": "markdown",
   "metadata": {},
   "source": [
    "## Requirement 9"
   ]
  },
  {
   "cell_type": "code",
   "execution_count": 29,
   "metadata": {},
   "outputs": [
    {
     "name": "stdout",
     "output_type": "stream",
     "text": [
      "Demonstrate Boolean Operations\n",
      "(x < 4 and x > 2) is True\n",
      "(x < 4 and x < 2) is False\n",
      "((x > 11) or (x // 2 == 1)) is True\n",
      "((x > 11) or (x // 2) == 0) is False\n",
      "(not (x < 1)) is True\n",
      "(not (x < 7)) is False\n",
      "Demonstrate Identity Operations\n",
      "(x is y) is False\n",
      "(x is z) is True\n",
      "(x is not y) is True\n",
      "(x is not z) is False\n",
      "Demonstrate Membership Operations\n",
      "(x in [8, 9 ,10]) is True\n",
      "(x in [9, 10, 11]) is False\n",
      "(x not in [11, 10, 9]) is True\n",
      "(x not in [10, 9, 8]) is False\n",
      "Demonstrate Object Identity\n",
      "If m = [7, 9 ,10] and n = m, then (n is m) is True .\n",
      "However, if i = [7, 9 ,10] and j = [7, 9, 10], then (i is j) is False .\n"
     ]
    }
   ],
   "source": [
    "# Demonstrate Boolean Operations\n",
    "\n",
    "print('Demonstrate Boolean Operations')\n",
    "\n",
    "x = 3 \n",
    "\n",
    "a = ((x < 4) and (x > 2))\n",
    "print('(x < 4 and x > 2) is', a) #True\n",
    "\n",
    "b = ((x < 4) and (x < 2))\n",
    "print('(x < 4 and x < 2) is', b) #False\n",
    "    \n",
    "c = ((x > 11) or (x // 2 == 1))\n",
    "print('((x > 11) or (x // 2 == 1)) is', c) #True\n",
    "    \n",
    "d = ((x > 11) or (x // 2) == 0) \n",
    "print('((x > 11) or (x // 2) == 0) is', d) #False\n",
    "    \n",
    "e = (not (x < 1))\n",
    "print('(not (x < 1)) is', e) #True\n",
    "\n",
    "f = (not (x < 7))\n",
    "print('(not (x < 7)) is', f) #False\n",
    "    \n",
    "\n",
    "# Demonstrate Identity Operations\n",
    "\n",
    "print('Demonstrate Identity Operations')\n",
    "\n",
    "x = [7, 8 , 9]\n",
    "y = [7, 8 , 9]\n",
    "z = x\n",
    "    \n",
    "a = (x is y) \n",
    "print('(x is y) is',a) #False\n",
    "\n",
    "b = (x is z) \n",
    "print('(x is z) is',b) #True\n",
    "\n",
    "c = (x is not y) \n",
    "print('(x is not y) is',c) #True\n",
    "\n",
    "d = (x is not z) \n",
    "print('(x is not z) is',d) #False\n",
    "\n",
    "\n",
    "# Demonstrate Membership Operations\n",
    "\n",
    "print('Demonstrate Membership Operations')\n",
    "\n",
    "x = 8\n",
    "\n",
    "a = (x in [8, 9 ,10]) \n",
    "print('(x in [8, 9 ,10]) is',a) #True\n",
    "\n",
    "b = (x in [9, 10, 11]) \n",
    "print('(x in [9, 10, 11]) is',b) #False\n",
    "\n",
    "c = (x not in [11, 10, 9]) \n",
    "print('(x not in [11, 10, 9]) is',c) #True\n",
    "\n",
    "d = (x not in [10, 9, 8]) \n",
    "print('(x not in [10, 9, 8]) is',d) #False\n",
    "\n",
    "#Demonstrate Object Identity\n",
    "\n",
    "print('Demonstrate Object Identity')\n",
    "\n",
    "m = [7, 9 ,10]\n",
    "n = m\n",
    "\n",
    "l = (n is m)\n",
    "\n",
    "print('If m = [7, 9 ,10] and n = m, then (n is m) is',l,'.')\n",
    "# This shows that the \"=\" operator assigns valuable to variable to be stored\n",
    "# for later use. The \"=\" operator acts as a pointer. In this case, n points \n",
    "# points to m which points to the list [7, 9, 10], and therefore n and m point\n",
    "# to the same object, making \"n is m\" a true statement. \n",
    "\n",
    "i = [7, 9, 10]\n",
    "j = [7, 9, 10]\n",
    "\n",
    "k = i is j\n",
    "\n",
    "print('However, if i = [7, 9 ,10] and j = [7, 9, 10], then (i is j) is',k,'.')\n",
    "# This shows that i and j do not point to the same object, but rather point \n",
    "# to two different objects that have equal value. \n"
   ]
  },
  {
   "cell_type": "markdown",
   "metadata": {},
   "source": [
    "## Requirement 10"
   ]
  },
  {
   "cell_type": "code",
   "execution_count": 8,
   "metadata": {},
   "outputs": [
    {
     "name": "stdout",
     "output_type": "stream",
     "text": [
      "2 ** 200 = 1606938044258990275541962092341162602522202993782792835301376\n",
      "2 ** 300 = 2037035976334486086268445688409378161051468393665936250636140449354381299763336706183397376\n"
     ]
    }
   ],
   "source": [
    "# Demonstrate variable precision\n",
    "\n",
    "x = 2 ** 200\n",
    "\n",
    "y = 2 ** 300\n",
    "\n",
    "# 2 ** 200\n",
    "print('2 ** 200 =', x)\n",
    "\n",
    "# 2 ** 300\n",
    "print('2 ** 300 =', y)\n",
    "\n",
    "#This demonstrates that python is capable of doing large computations that would overflow in fixed-precision languages like C. \n"
   ]
  },
  {
   "cell_type": "markdown",
   "metadata": {},
   "source": [
    "## Requirement 11"
   ]
  },
  {
   "cell_type": "code",
   "execution_count": 10,
   "metadata": {},
   "outputs": [
    {
     "name": "stdout",
     "output_type": "stream",
     "text": [
      "The length of the answer is 11 characters.\n",
      "The answer - capitalized - is \" FOUR-THIRTY \".\n",
      "The question - with proper punctuation - is,\" What time is it? \".\n",
      "The question and the answer together are, \" what time is it?four-thirty \".\n",
      "The answer seven times in a row is \" four-thirtyfour-thirtyfour-thirtyfour-thirtyfour-thirtyfour-thirtyfour-thirty \".\n",
      "The first letter of the question is \" w \".\n"
     ]
    }
   ],
   "source": [
    "# Demonstrate string operations\n",
    "\n",
    "question = \"what time is it?\"\n",
    "answer = \"four-thirty\"\n",
    "\n",
    "#this returns the count of the number of characters in the answer\n",
    "a = (len(answer)) \n",
    "print('The length of the answer is',a,'characters.')\n",
    "\n",
    "#this returns the answer in all upper-case letters\n",
    "b = (answer.upper()) \n",
    "print('The answer - capitalized - is \"',b,'\".')\n",
    "\n",
    "#this returns the question with the first letter capitalized\n",
    "c = (question.capitalize()) \n",
    "print('The question - with proper punctuation - is,\"',c,'\".')\n",
    "\n",
    "#concantenation - this returns the question followed by the answer\n",
    "d = (question + answer) \n",
    "print('The question and the answer together are, \"',d,'\".')\n",
    "\n",
    "#multi-concantenation - this returns the answer concantenated seven times\n",
    "e = (7 * answer) \n",
    "print('The answer seven times in a row is \"',e,'\".')\n",
    "\n",
    "#access individual characters - this returns the first letter of the question\n",
    "f = question[0] \n",
    "print('The first letter of the question is \"',f,'\".')\n",
    "\n",
    "\n",
    "\n",
    "\n",
    "\n",
    "\n",
    "\n",
    "\n"
   ]
  }
 ],
 "metadata": {
  "kernelspec": {
   "display_name": "Python 3 (ipykernel)",
   "language": "python",
   "name": "python3"
  },
  "language_info": {
   "codemirror_mode": {
    "name": "ipython",
    "version": 3
   },
   "file_extension": ".py",
   "mimetype": "text/x-python",
   "name": "python",
   "nbconvert_exporter": "python",
   "pygments_lexer": "ipython3",
   "version": "3.9.7"
  }
 },
 "nbformat": 4,
 "nbformat_minor": 4
}
