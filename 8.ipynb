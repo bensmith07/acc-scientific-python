{
 "cells": [
  {
   "cell_type": "markdown",
   "metadata": {},
   "source": [
    "# This is Assignment 08 - Ben Smith"
   ]
  },
  {
   "cell_type": "markdown",
   "metadata": {},
   "source": [
    "#### Disabling the pager in order to display all assignment requirements inline"
   ]
  },
  {
   "cell_type": "code",
   "execution_count": 7,
   "metadata": {},
   "outputs": [],
   "source": [
    "# Source: https://github.com/ipython/ipython/issues/5410\n",
    "\n",
    "from __future__ import print_function\n",
    "\n",
    "def page_printer(data, start=0, screen_lines=0, pager_cmd=None):\n",
    "    if isinstance(data, dict):\n",
    "        data = data['text/plain']\n",
    "    print(data)\n",
    "\n",
    "import IPython.core.page\n",
    "IPython.core.page.page = page_printer"
   ]
  },
  {
   "cell_type": "markdown",
   "metadata": {},
   "source": [
    "## Requirement 4"
   ]
  },
  {
   "cell_type": "markdown",
   "metadata": {},
   "source": [
    "#### Data Science Definition # 1"
   ]
  },
  {
   "cell_type": "markdown",
   "metadata": {},
   "source": [
    "“Data Science is about extraction, preparation, analysis, visualization, and maintenance of information. It is a cross-disciplinary field which uses scientific methods and processes to draw insights from data... It requires special expertise of a ‘Data Scientist’ who can use various statistical & machine learning tools to understand and analyze data. A Data Scientist, specializing in Data Science, not only analyzes the data but also uses machine learning algorithms to predict future occurrences of an event. Therefore, we can understand Data Science as a field that deals with data processing, analysis, and extraction of insights from the data using various statistical methods and computer algorithms. It is a multidisciplinary field that combines mathematics, statistics, and computer science.\"\n",
    "\n",
    "SOURCE:\n",
    "\n",
    "\"What is Data Science? A Complete Data Science Tutorial for Beginners.\" Internet: https://data-flair.training/blogs/what-is-data-science/, Mar. 14, 2019 Jun. 28, 2020.  \n"
   ]
  },
  {
   "cell_type": "markdown",
   "metadata": {},
   "source": [
    "#### Data Science Definition #2"
   ]
  },
  {
   "cell_type": "markdown",
   "metadata": {},
   "source": [
    "Data science, despite its hype-laden veneer, is perhaps the best label we have for the cross-disciplinary set of skills that are becoming increasingly important in many applications across industry and academia. This cross-disciplinary piece is key...  it is fundamentally an interdisciplinary subject. Data science comprises three distinct and overlapping areas: the skills of a statistician who knows how to model and summarize datasets (which are growing ever larger); the skills of a computer scientist who can design and use algorithms to efficiently store, process, and visualize this data; and the domain expertise—what we might think of as \"classical\" training in a subject—necessary both to formulate the right questions and to put their answers in context.\n",
    "\n",
    "SOURCE:\n",
    "\n",
    "VanderPlas, Jake, Python Data Science Handbook. [E-book] Available: https://jakevdp.github.io/PythonDataScienceHandbook/ "
   ]
  },
  {
   "cell_type": "markdown",
   "metadata": {},
   "source": [
    "#### Data Science Definition #3"
   ]
  },
  {
   "cell_type": "markdown",
   "metadata": {},
   "source": [
    "\"Data science is an inter-disciplinary field that uses scientific methods, processes, algorithms and systems to extract knowledge and insights from many structural and unstructured data... Data science is a ‘concept to unify statistics, data analysis, machine learning and their related methods’ in order to ‘understand and analyze actual phenomena’ with data.\"\n",
    "\n",
    "SOURCE:\n",
    "\n",
    "\"*Data Science.*\" Internet: https://en.wikipedia.org/wiki/Data_science. Jun. 29, 2020. Jun 30, 2020.\n",
    "\n",
    "\n"
   ]
  },
  {
   "cell_type": "markdown",
   "metadata": {},
   "source": [
    "## Requirement 5"
   ]
  },
  {
   "cell_type": "markdown",
   "metadata": {},
   "source": [
    "#### Demonstrate Accessing the Help System:"
   ]
  },
  {
   "cell_type": "code",
   "execution_count": 19,
   "metadata": {},
   "outputs": [
    {
     "name": "stdout",
     "output_type": "stream",
     "text": [
      "Help on built-in function print in module builtins:\n",
      "\n",
      "print(...)\n",
      "    print(value, ..., sep=' ', end='\\n', file=sys.stdout, flush=False)\n",
      "    \n",
      "    Prints the values to a stream, or to sys.stdout by default.\n",
      "    Optional keyword arguments:\n",
      "    file:  a file-like object (stream); defaults to the current sys.stdout.\n",
      "    sep:   string inserted between values, default a space.\n",
      "    end:   string appended after the last value, default a newline.\n",
      "    flush: whether to forcibly flush the stream.\n",
      "\n"
     ]
    }
   ],
   "source": [
    "# 1 accessing the help system for the print() function\n",
    "\n",
    "help(print)"
   ]
  },
  {
   "cell_type": "code",
   "execution_count": 20,
   "metadata": {},
   "outputs": [
    {
     "name": "stdout",
     "output_type": "stream",
     "text": [
      "Help on built-in function sum in module builtins:\n",
      "\n",
      "sum(iterable, start=0, /)\n",
      "    Return the sum of a 'start' value (default: 0) plus an iterable of numbers\n",
      "    \n",
      "    When the iterable is empty, return the start value.\n",
      "    This function is intended specifically for use with numeric values and may\n",
      "    reject non-numeric types.\n",
      "\n"
     ]
    }
   ],
   "source": [
    "# 2 accessing the help system for the sum() function\n",
    "\n",
    "help(sum)"
   ]
  },
  {
   "cell_type": "code",
   "execution_count": 22,
   "metadata": {},
   "outputs": [
    {
     "name": "stdout",
     "output_type": "stream",
     "text": [
      "Help on built-in function capitalize:\n",
      "\n",
      "capitalize() method of builtins.str instance\n",
      "    Return a capitalized version of the string.\n",
      "    \n",
      "    More specifically, make the first character have upper case and the rest lower\n",
      "    case.\n",
      "\n"
     ]
    }
   ],
   "source": [
    "# 3 accessing the help system for the object method capitalize\n",
    "\n",
    "string1 = 'the quick brown fox'\n",
    "\n",
    "help(string1.capitalize)"
   ]
  },
  {
   "cell_type": "code",
   "execution_count": 23,
   "metadata": {},
   "outputs": [
    {
     "name": "stdout",
     "output_type": "stream",
     "text": [
      "Help on built-in function all in module builtins:\n",
      "\n",
      "all(iterable, /)\n",
      "    Return True if bool(x) is True for all values x in the iterable.\n",
      "    \n",
      "    If the iterable is empty, return True.\n",
      "\n"
     ]
    }
   ],
   "source": [
    "# 4 accessing the help system for the built in function all\n",
    "\n",
    "help(all)"
   ]
  },
  {
   "cell_type": "code",
   "execution_count": 24,
   "metadata": {},
   "outputs": [
    {
     "name": "stdout",
     "output_type": "stream",
     "text": [
      "Help on class str in module builtins:\n",
      "\n",
      "class str(object)\n",
      " |  str(object='') -> str\n",
      " |  str(bytes_or_buffer[, encoding[, errors]]) -> str\n",
      " |  \n",
      " |  Create a new string object from the given object. If encoding or\n",
      " |  errors is specified, then the object must expose a data buffer\n",
      " |  that will be decoded using the given encoding and error handler.\n",
      " |  Otherwise, returns the result of object.__str__() (if defined)\n",
      " |  or repr(object).\n",
      " |  encoding defaults to sys.getdefaultencoding().\n",
      " |  errors defaults to 'strict'.\n",
      " |  \n",
      " |  Methods defined here:\n",
      " |  \n",
      " |  __add__(self, value, /)\n",
      " |      Return self+value.\n",
      " |  \n",
      " |  __contains__(self, key, /)\n",
      " |      Return key in self.\n",
      " |  \n",
      " |  __eq__(self, value, /)\n",
      " |      Return self==value.\n",
      " |  \n",
      " |  __format__(self, format_spec, /)\n",
      " |      Return a formatted version of the string as described by format_spec.\n",
      " |  \n",
      " |  __ge__(self, value, /)\n",
      " |      Return self>=value.\n",
      " |  \n",
      " |  __getattribute__(self, name, /)\n",
      " |      Return getattr(self, name).\n",
      " |  \n",
      " |  __getitem__(self, key, /)\n",
      " |      Return self[key].\n",
      " |  \n",
      " |  __getnewargs__(...)\n",
      " |  \n",
      " |  __gt__(self, value, /)\n",
      " |      Return self>value.\n",
      " |  \n",
      " |  __hash__(self, /)\n",
      " |      Return hash(self).\n",
      " |  \n",
      " |  __iter__(self, /)\n",
      " |      Implement iter(self).\n",
      " |  \n",
      " |  __le__(self, value, /)\n",
      " |      Return self<=value.\n",
      " |  \n",
      " |  __len__(self, /)\n",
      " |      Return len(self).\n",
      " |  \n",
      " |  __lt__(self, value, /)\n",
      " |      Return self<value.\n",
      " |  \n",
      " |  __mod__(self, value, /)\n",
      " |      Return self%value.\n",
      " |  \n",
      " |  __mul__(self, value, /)\n",
      " |      Return self*value.\n",
      " |  \n",
      " |  __ne__(self, value, /)\n",
      " |      Return self!=value.\n",
      " |  \n",
      " |  __repr__(self, /)\n",
      " |      Return repr(self).\n",
      " |  \n",
      " |  __rmod__(self, value, /)\n",
      " |      Return value%self.\n",
      " |  \n",
      " |  __rmul__(self, value, /)\n",
      " |      Return value*self.\n",
      " |  \n",
      " |  __sizeof__(self, /)\n",
      " |      Return the size of the string in memory, in bytes.\n",
      " |  \n",
      " |  __str__(self, /)\n",
      " |      Return str(self).\n",
      " |  \n",
      " |  capitalize(self, /)\n",
      " |      Return a capitalized version of the string.\n",
      " |      \n",
      " |      More specifically, make the first character have upper case and the rest lower\n",
      " |      case.\n",
      " |  \n",
      " |  casefold(self, /)\n",
      " |      Return a version of the string suitable for caseless comparisons.\n",
      " |  \n",
      " |  center(self, width, fillchar=' ', /)\n",
      " |      Return a centered string of length width.\n",
      " |      \n",
      " |      Padding is done using the specified fill character (default is a space).\n",
      " |  \n",
      " |  count(...)\n",
      " |      S.count(sub[, start[, end]]) -> int\n",
      " |      \n",
      " |      Return the number of non-overlapping occurrences of substring sub in\n",
      " |      string S[start:end].  Optional arguments start and end are\n",
      " |      interpreted as in slice notation.\n",
      " |  \n",
      " |  encode(self, /, encoding='utf-8', errors='strict')\n",
      " |      Encode the string using the codec registered for encoding.\n",
      " |      \n",
      " |      encoding\n",
      " |        The encoding in which to encode the string.\n",
      " |      errors\n",
      " |        The error handling scheme to use for encoding errors.\n",
      " |        The default is 'strict' meaning that encoding errors raise a\n",
      " |        UnicodeEncodeError.  Other possible values are 'ignore', 'replace' and\n",
      " |        'xmlcharrefreplace' as well as any other name registered with\n",
      " |        codecs.register_error that can handle UnicodeEncodeErrors.\n",
      " |  \n",
      " |  endswith(...)\n",
      " |      S.endswith(suffix[, start[, end]]) -> bool\n",
      " |      \n",
      " |      Return True if S ends with the specified suffix, False otherwise.\n",
      " |      With optional start, test S beginning at that position.\n",
      " |      With optional end, stop comparing S at that position.\n",
      " |      suffix can also be a tuple of strings to try.\n",
      " |  \n",
      " |  expandtabs(self, /, tabsize=8)\n",
      " |      Return a copy where all tab characters are expanded using spaces.\n",
      " |      \n",
      " |      If tabsize is not given, a tab size of 8 characters is assumed.\n",
      " |  \n",
      " |  find(...)\n",
      " |      S.find(sub[, start[, end]]) -> int\n",
      " |      \n",
      " |      Return the lowest index in S where substring sub is found,\n",
      " |      such that sub is contained within S[start:end].  Optional\n",
      " |      arguments start and end are interpreted as in slice notation.\n",
      " |      \n",
      " |      Return -1 on failure.\n",
      " |  \n",
      " |  format(...)\n",
      " |      S.format(*args, **kwargs) -> str\n",
      " |      \n",
      " |      Return a formatted version of S, using substitutions from args and kwargs.\n",
      " |      The substitutions are identified by braces ('{' and '}').\n",
      " |  \n",
      " |  format_map(...)\n",
      " |      S.format_map(mapping) -> str\n",
      " |      \n",
      " |      Return a formatted version of S, using substitutions from mapping.\n",
      " |      The substitutions are identified by braces ('{' and '}').\n",
      " |  \n",
      " |  index(...)\n",
      " |      S.index(sub[, start[, end]]) -> int\n",
      " |      \n",
      " |      Return the lowest index in S where substring sub is found, \n",
      " |      such that sub is contained within S[start:end].  Optional\n",
      " |      arguments start and end are interpreted as in slice notation.\n",
      " |      \n",
      " |      Raises ValueError when the substring is not found.\n",
      " |  \n",
      " |  isalnum(self, /)\n",
      " |      Return True if the string is an alpha-numeric string, False otherwise.\n",
      " |      \n",
      " |      A string is alpha-numeric if all characters in the string are alpha-numeric and\n",
      " |      there is at least one character in the string.\n",
      " |  \n",
      " |  isalpha(self, /)\n",
      " |      Return True if the string is an alphabetic string, False otherwise.\n",
      " |      \n",
      " |      A string is alphabetic if all characters in the string are alphabetic and there\n",
      " |      is at least one character in the string.\n",
      " |  \n",
      " |  isascii(self, /)\n",
      " |      Return True if all characters in the string are ASCII, False otherwise.\n",
      " |      \n",
      " |      ASCII characters have code points in the range U+0000-U+007F.\n",
      " |      Empty string is ASCII too.\n",
      " |  \n",
      " |  isdecimal(self, /)\n",
      " |      Return True if the string is a decimal string, False otherwise.\n",
      " |      \n",
      " |      A string is a decimal string if all characters in the string are decimal and\n",
      " |      there is at least one character in the string.\n",
      " |  \n",
      " |  isdigit(self, /)\n",
      " |      Return True if the string is a digit string, False otherwise.\n",
      " |      \n",
      " |      A string is a digit string if all characters in the string are digits and there\n",
      " |      is at least one character in the string.\n",
      " |  \n",
      " |  isidentifier(self, /)\n",
      " |      Return True if the string is a valid Python identifier, False otherwise.\n",
      " |      \n",
      " |      Use keyword.iskeyword() to test for reserved identifiers such as \"def\" and\n",
      " |      \"class\".\n",
      " |  \n",
      " |  islower(self, /)\n",
      " |      Return True if the string is a lowercase string, False otherwise.\n",
      " |      \n",
      " |      A string is lowercase if all cased characters in the string are lowercase and\n",
      " |      there is at least one cased character in the string.\n",
      " |  \n",
      " |  isnumeric(self, /)\n",
      " |      Return True if the string is a numeric string, False otherwise.\n",
      " |      \n",
      " |      A string is numeric if all characters in the string are numeric and there is at\n",
      " |      least one character in the string.\n",
      " |  \n",
      " |  isprintable(self, /)\n",
      " |      Return True if the string is printable, False otherwise.\n",
      " |      \n",
      " |      A string is printable if all of its characters are considered printable in\n",
      " |      repr() or if it is empty.\n",
      " |  \n",
      " |  isspace(self, /)\n",
      " |      Return True if the string is a whitespace string, False otherwise.\n",
      " |      \n",
      " |      A string is whitespace if all characters in the string are whitespace and there\n",
      " |      is at least one character in the string.\n",
      " |  \n",
      " |  istitle(self, /)\n",
      " |      Return True if the string is a title-cased string, False otherwise.\n",
      " |      \n",
      " |      In a title-cased string, upper- and title-case characters may only\n",
      " |      follow uncased characters and lowercase characters only cased ones.\n",
      " |  \n",
      " |  isupper(self, /)\n",
      " |      Return True if the string is an uppercase string, False otherwise.\n",
      " |      \n",
      " |      A string is uppercase if all cased characters in the string are uppercase and\n",
      " |      there is at least one cased character in the string.\n",
      " |  \n",
      " |  join(self, iterable, /)\n",
      " |      Concatenate any number of strings.\n",
      " |      \n",
      " |      The string whose method is called is inserted in between each given string.\n",
      " |      The result is returned as a new string.\n",
      " |      \n",
      " |      Example: '.'.join(['ab', 'pq', 'rs']) -> 'ab.pq.rs'\n",
      " |  \n",
      " |  ljust(self, width, fillchar=' ', /)\n",
      " |      Return a left-justified string of length width.\n",
      " |      \n",
      " |      Padding is done using the specified fill character (default is a space).\n",
      " |  \n",
      " |  lower(self, /)\n",
      " |      Return a copy of the string converted to lowercase.\n",
      " |  \n",
      " |  lstrip(self, chars=None, /)\n",
      " |      Return a copy of the string with leading whitespace removed.\n",
      " |      \n",
      " |      If chars is given and not None, remove characters in chars instead.\n",
      " |  \n",
      " |  partition(self, sep, /)\n",
      " |      Partition the string into three parts using the given separator.\n",
      " |      \n",
      " |      This will search for the separator in the string.  If the separator is found,\n",
      " |      returns a 3-tuple containing the part before the separator, the separator\n",
      " |      itself, and the part after it.\n",
      " |      \n",
      " |      If the separator is not found, returns a 3-tuple containing the original string\n",
      " |      and two empty strings.\n",
      " |  \n",
      " |  replace(self, old, new, count=-1, /)\n",
      " |      Return a copy with all occurrences of substring old replaced by new.\n",
      " |      \n",
      " |        count\n",
      " |          Maximum number of occurrences to replace.\n",
      " |          -1 (the default value) means replace all occurrences.\n",
      " |      \n",
      " |      If the optional argument count is given, only the first count occurrences are\n",
      " |      replaced.\n",
      " |  \n",
      " |  rfind(...)\n",
      " |      S.rfind(sub[, start[, end]]) -> int\n",
      " |      \n",
      " |      Return the highest index in S where substring sub is found,\n",
      " |      such that sub is contained within S[start:end].  Optional\n",
      " |      arguments start and end are interpreted as in slice notation.\n",
      " |      \n",
      " |      Return -1 on failure.\n",
      " |  \n",
      " |  rindex(...)\n",
      " |      S.rindex(sub[, start[, end]]) -> int\n",
      " |      \n",
      " |      Return the highest index in S where substring sub is found,\n",
      " |      such that sub is contained within S[start:end].  Optional\n",
      " |      arguments start and end are interpreted as in slice notation.\n",
      " |      \n",
      " |      Raises ValueError when the substring is not found.\n",
      " |  \n",
      " |  rjust(self, width, fillchar=' ', /)\n",
      " |      Return a right-justified string of length width.\n",
      " |      \n",
      " |      Padding is done using the specified fill character (default is a space).\n",
      " |  \n",
      " |  rpartition(self, sep, /)\n",
      " |      Partition the string into three parts using the given separator.\n",
      " |      \n",
      " |      This will search for the separator in the string, starting at the end. If\n",
      " |      the separator is found, returns a 3-tuple containing the part before the\n",
      " |      separator, the separator itself, and the part after it.\n",
      " |      \n",
      " |      If the separator is not found, returns a 3-tuple containing two empty strings\n",
      " |      and the original string.\n",
      " |  \n",
      " |  rsplit(self, /, sep=None, maxsplit=-1)\n",
      " |      Return a list of the words in the string, using sep as the delimiter string.\n",
      " |      \n",
      " |        sep\n",
      " |          The delimiter according which to split the string.\n",
      " |          None (the default value) means split according to any whitespace,\n",
      " |          and discard empty strings from the result.\n",
      " |        maxsplit\n",
      " |          Maximum number of splits to do.\n",
      " |          -1 (the default value) means no limit.\n",
      " |      \n",
      " |      Splits are done starting at the end of the string and working to the front.\n",
      " |  \n",
      " |  rstrip(self, chars=None, /)\n",
      " |      Return a copy of the string with trailing whitespace removed.\n",
      " |      \n",
      " |      If chars is given and not None, remove characters in chars instead.\n",
      " |  \n",
      " |  split(self, /, sep=None, maxsplit=-1)\n",
      " |      Return a list of the words in the string, using sep as the delimiter string.\n",
      " |      \n",
      " |      sep\n",
      " |        The delimiter according which to split the string.\n",
      " |        None (the default value) means split according to any whitespace,\n",
      " |        and discard empty strings from the result.\n",
      " |      maxsplit\n",
      " |        Maximum number of splits to do.\n",
      " |        -1 (the default value) means no limit.\n",
      " |  \n",
      " |  splitlines(self, /, keepends=False)\n",
      " |      Return a list of the lines in the string, breaking at line boundaries.\n",
      " |      \n",
      " |      Line breaks are not included in the resulting list unless keepends is given and\n",
      " |      true.\n",
      " |  \n",
      " |  startswith(...)\n",
      " |      S.startswith(prefix[, start[, end]]) -> bool\n",
      " |      \n",
      " |      Return True if S starts with the specified prefix, False otherwise.\n",
      " |      With optional start, test S beginning at that position.\n",
      " |      With optional end, stop comparing S at that position.\n",
      " |      prefix can also be a tuple of strings to try.\n",
      " |  \n",
      " |  strip(self, chars=None, /)\n",
      " |      Return a copy of the string with leading and trailing whitespace removed.\n",
      " |      \n",
      " |      If chars is given and not None, remove characters in chars instead.\n",
      " |  \n",
      " |  swapcase(self, /)\n",
      " |      Convert uppercase characters to lowercase and lowercase characters to uppercase.\n",
      " |  \n",
      " |  title(self, /)\n",
      " |      Return a version of the string where each word is titlecased.\n",
      " |      \n",
      " |      More specifically, words start with uppercased characters and all remaining\n",
      " |      cased characters have lower case.\n",
      " |  \n",
      " |  translate(self, table, /)\n",
      " |      Replace each character in the string using the given translation table.\n",
      " |      \n",
      " |        table\n",
      " |          Translation table, which must be a mapping of Unicode ordinals to\n",
      " |          Unicode ordinals, strings, or None.\n",
      " |      \n",
      " |      The table must implement lookup/indexing via __getitem__, for instance a\n",
      " |      dictionary or list.  If this operation raises LookupError, the character is\n",
      " |      left untouched.  Characters mapped to None are deleted.\n",
      " |  \n",
      " |  upper(self, /)\n",
      " |      Return a copy of the string converted to uppercase.\n",
      " |  \n",
      " |  zfill(self, width, /)\n",
      " |      Pad a numeric string with zeros on the left, to fill a field of the given width.\n",
      " |      \n",
      " |      The string is never truncated.\n",
      " |  \n",
      " |  ----------------------------------------------------------------------\n",
      " |  Static methods defined here:\n",
      " |  \n",
      " |  __new__(*args, **kwargs) from builtins.type\n",
      " |      Create and return a new object.  See help(type) for accurate signature.\n",
      " |  \n",
      " |  maketrans(x, y=None, z=None, /)\n",
      " |      Return a translation table usable for str.translate().\n",
      " |      \n",
      " |      If there is only one argument, it must be a dictionary mapping Unicode\n",
      " |      ordinals (integers) or characters to Unicode ordinals, strings or None.\n",
      " |      Character keys will be then converted to ordinals.\n",
      " |      If there are two arguments, they must be strings of equal length, and\n",
      " |      in the resulting dictionary, each character in x will be mapped to the\n",
      " |      character at the same position in y. If there is a third argument, it\n",
      " |      must be a string, whose characters will be mapped to None in the result.\n",
      "\n"
     ]
    }
   ],
   "source": [
    "# 5 accessing the help system for the str clas\n",
    "\n",
    "help(str)"
   ]
  },
  {
   "cell_type": "markdown",
   "metadata": {},
   "source": [
    "## Requirement 6"
   ]
  },
  {
   "cell_type": "code",
   "execution_count": 25,
   "metadata": {},
   "outputs": [
    {
     "name": "stdout",
     "output_type": "stream",
     "text": [
      "27\n"
     ]
    }
   ],
   "source": [
    "# Write a functions cube() that raises an argument to the third power and returns that argument\n",
    "# Include a docstring in the function\n",
    "\n",
    "def cube(x):\n",
    "    \"\"\"Returns x raised to the third power\"\"\"\n",
    "    return x ** 3\n",
    "\n",
    "# Include a call to cube()\n",
    "\n",
    "print(cube(3))"
   ]
  },
  {
   "cell_type": "markdown",
   "metadata": {},
   "source": [
    "## Requirement 7"
   ]
  },
  {
   "cell_type": "code",
   "execution_count": 26,
   "metadata": {
    "scrolled": true
   },
   "outputs": [],
   "source": [
    "def cube(x):\n",
    "    \"\"\"Returns x raised to the third power\"\"\"\n",
    "    return x ** 3"
   ]
  },
  {
   "cell_type": "code",
   "execution_count": 27,
   "metadata": {},
   "outputs": [
    {
     "name": "stdout",
     "output_type": "stream",
     "text": [
      "\u001b[1;31mSignature:\u001b[0m \u001b[0mcube\u001b[0m\u001b[1;33m(\u001b[0m\u001b[0mx\u001b[0m\u001b[1;33m)\u001b[0m\u001b[1;33m\u001b[0m\u001b[1;33m\u001b[0m\u001b[0m\n",
      "\u001b[1;31mDocstring:\u001b[0m Returns x raised to the third power\n",
      "\u001b[1;31mFile:\u001b[0m      c:\\users\\user\\desktop\\wpy64-3771\\notebooks\\<ipython-input-26-4a566d9917a9>\n",
      "\u001b[1;31mType:\u001b[0m      function\n",
      "\n"
     ]
    }
   ],
   "source": [
    "#Display the docstring of cube()\n",
    "cube?"
   ]
  },
  {
   "cell_type": "code",
   "execution_count": 28,
   "metadata": {},
   "outputs": [
    {
     "name": "stdout",
     "output_type": "stream",
     "text": [
      "\u001b[1;31mSignature:\u001b[0m \u001b[0mcube\u001b[0m\u001b[1;33m(\u001b[0m\u001b[0mx\u001b[0m\u001b[1;33m)\u001b[0m\u001b[1;33m\u001b[0m\u001b[1;33m\u001b[0m\u001b[0m\n",
      "\u001b[1;31mSource:\u001b[0m   \n",
      "\u001b[1;32mdef\u001b[0m \u001b[0mcube\u001b[0m\u001b[1;33m(\u001b[0m\u001b[0mx\u001b[0m\u001b[1;33m)\u001b[0m\u001b[1;33m:\u001b[0m\u001b[1;33m\n",
      "\u001b[0m    \u001b[1;34m\"\"\"Returns x raised to the third power\"\"\"\u001b[0m\u001b[1;33m\n",
      "\u001b[0m    \u001b[1;32mreturn\u001b[0m \u001b[0mx\u001b[0m \u001b[1;33m**\u001b[0m \u001b[1;36m3\u001b[0m\u001b[1;33m\u001b[0m\u001b[1;33m\u001b[0m\u001b[0m\n",
      "\u001b[1;31mFile:\u001b[0m      c:\\users\\user\\desktop\\wpy64-3771\\notebooks\\<ipython-input-26-4a566d9917a9>\n",
      "\u001b[1;31mType:\u001b[0m      function\n",
      "\n"
     ]
    }
   ],
   "source": [
    "# Display the source code of cube()\n",
    "cube??"
   ]
  },
  {
   "cell_type": "markdown",
   "metadata": {},
   "source": [
    "## Requirement 8"
   ]
  },
  {
   "cell_type": "markdown",
   "metadata": {},
   "source": [
    "#### Define a list L. Inlude L. in a code cell below L and press TAB to observe code completion. "
   ]
  },
  {
   "cell_type": "markdown",
   "metadata": {},
   "source": [
    "On my system, tab completion displays all available attributes of the object in a dropdown menu, from which you can select the attribute you would like to use. In order to display that inline I have created an image file and imported it below."
   ]
  },
  {
   "cell_type": "code",
   "execution_count": 29,
   "metadata": {},
   "outputs": [
    {
     "data": {
      "image/png": "[encoded data removed]",
      "text/plain": [
       "<IPython.core.display.Image object>"
      ]
     },
     "execution_count": 29,
     "metadata": {},
     "output_type": "execute_result"
    }
   ],
   "source": [
    "from IPython.display import Image\n",
    "Image(filename='tabcompletion.png')"
   ]
  },
  {
   "cell_type": "markdown",
   "metadata": {},
   "source": [
    "## Requirement 9"
   ]
  },
  {
   "cell_type": "markdown",
   "metadata": {},
   "source": [
    "#### Demonstrate the use of tab completion with the import statement"
   ]
  },
  {
   "cell_type": "markdown",
   "metadata": {},
   "source": [
    "Again, I have displayed this using an image file imported below."
   ]
  },
  {
   "cell_type": "code",
   "execution_count": 30,
   "metadata": {},
   "outputs": [
    {
     "data": {
      "image/png": "[encoded data removed]",
      "text/plain": [
       "<IPython.core.display.Image object>"
      ]
     },
     "execution_count": 30,
     "metadata": {},
     "output_type": "execute_result"
    }
   ],
   "source": [
    "from IPython.display import Image\n",
    "Image(filename='tabimport.png')"
   ]
  },
  {
   "cell_type": "markdown",
   "metadata": {},
   "source": [
    "## Requirement 10"
   ]
  },
  {
   "cell_type": "code",
   "execution_count": 31,
   "metadata": {},
   "outputs": [
    {
     "name": "stdout",
     "output_type": "stream",
     "text": [
      "BytesWarning\n",
      "DeprecationWarning\n",
      "FutureWarning\n",
      "ImportWarning\n",
      "PendingDeprecationWarning\n",
      "ResourceWarning\n",
      "RuntimeWarning\n",
      "SyntaxWarning\n",
      "UnicodeWarning\n",
      "UserWarning\n",
      "Warning\n"
     ]
    }
   ],
   "source": [
    "# Demonstrate the use of wildcard matching\n",
    "\n",
    "*Warning?"
   ]
  },
  {
   "cell_type": "markdown",
   "metadata": {},
   "source": [
    "## Requirement 11"
   ]
  },
  {
   "cell_type": "code",
   "execution_count": 32,
   "metadata": {},
   "outputs": [
    {
     "name": "stdout",
     "output_type": "stream",
     "text": [
      "1 cubed is 1\n",
      "2 cubed is 8\n",
      "3 cubed is 27\n"
     ]
    }
   ],
   "source": [
    "# Create a file myscript.py that includes the definition of cube() you wrote earlier and a for loop to call cube multiple times\n",
    "# Use a magic command to run myscript.py from a code cell\n",
    "\n",
    "%run myscript.py"
   ]
  },
  {
   "cell_type": "markdown",
   "metadata": {},
   "source": [
    "## Requirement 12"
   ]
  },
  {
   "cell_type": "code",
   "execution_count": 33,
   "metadata": {
    "scrolled": true
   },
   "outputs": [
    {
     "name": "stdout",
     "output_type": "stream",
     "text": [
      "Wall time: 0 ns\n"
     ]
    },
    {
     "data": {
      "text/plain": [
       "3486784401"
      ]
     },
     "execution_count": 33,
     "metadata": {},
     "output_type": "execute_result"
    }
   ],
   "source": [
    "# Use a magic command to time an operation\n",
    "\n",
    "%time 9 ** 10"
   ]
  },
  {
   "cell_type": "code",
   "execution_count": 34,
   "metadata": {},
   "outputs": [
    {
     "name": "stdout",
     "output_type": "stream",
     "text": [
      "8 ns ± 0.512 ns per loop (mean ± std. dev. of 7 runs, 100000000 loops each)\n"
     ]
    }
   ],
   "source": [
    "# Use a magic command to time repeated execution of a single statement for more accuracy\n",
    "\n",
    "%timeit 9 ** 10"
   ]
  },
  {
   "cell_type": "markdown",
   "metadata": {},
   "source": [
    "## Requirement 13"
   ]
  },
  {
   "cell_type": "code",
   "execution_count": 35,
   "metadata": {},
   "outputs": [],
   "source": [
    "# Demonstrate silently displaying output\n",
    "\n",
    "import math\n",
    "\n",
    "math.factorial(5) + math.factorial(9);"
   ]
  },
  {
   "cell_type": "code",
   "execution_count": 36,
   "metadata": {},
   "outputs": [
    {
     "data": {
      "text/plain": [
       "False"
      ]
     },
     "execution_count": 36,
     "metadata": {},
     "output_type": "execute_result"
    }
   ],
   "source": [
    "85 in Out"
   ]
  },
  {
   "cell_type": "markdown",
   "metadata": {},
   "source": [
    "## Requirement 14"
   ]
  },
  {
   "cell_type": "markdown",
   "metadata": {},
   "source": [
    "#### Demonstrate five different command console shell commands"
   ]
  },
  {
   "cell_type": "code",
   "execution_count": 37,
   "metadata": {},
   "outputs": [
    {
     "data": {
      "text/plain": [
       "'C:\\\\Users\\\\USER\\\\Desktop\\\\WPy64-3771\\\\notebooks'"
      ]
     },
     "execution_count": 37,
     "metadata": {},
     "output_type": "execute_result"
    }
   ],
   "source": [
    "pwd"
   ]
  },
  {
   "cell_type": "code",
   "execution_count": 38,
   "metadata": {},
   "outputs": [
    {
     "name": "stdout",
     "output_type": "stream",
     "text": [
      "C:\\Users\\USER\\Desktop\\WPy64-3771\\notebooks\n"
     ]
    }
   ],
   "source": [
    "cd C:\\Users\\USER\\Desktop\\WPy64-3771\\notebooks"
   ]
  },
  {
   "cell_type": "code",
   "execution_count": 41,
   "metadata": {},
   "outputs": [],
   "source": [
    "mkdir NewFolder3"
   ]
  },
  {
   "cell_type": "code",
   "execution_count": 42,
   "metadata": {},
   "outputs": [
    {
     "name": "stdout",
     "output_type": "stream",
     "text": [
      " Volume in drive C is Windows-SSD\n",
      " Volume Serial Number is 96E3-FF8E\n",
      "\n",
      " Directory of C:\\Users\\USER\\Desktop\\WPy64-3771\\notebooks\n",
      "\n",
      "07/05/2020  10:07 PM    <DIR>          .\n",
      "07/05/2020  10:07 PM    <DIR>          ..\n",
      "07/04/2020  05:07 PM    <DIR>          .ipynb_checkpoints\n",
      "06/10/2020  10:34 AM    <DIR>          __pycache__\n",
      "07/01/2020  12:20 PM    <DIR>          2\n",
      "07/05/2020  10:07 PM    <DIR>          3\n",
      "06/24/2020  08:03 PM            13,102 assignment-05.ipynb\n",
      "06/24/2020  08:12 PM            25,219 assignment-06.ipynb\n",
      "06/27/2020  07:29 AM            72,029 assignment-07.ipynb\n",
      "07/05/2020  10:07 PM           188,382 assignment-08.ipynb\n",
      "06/27/2020  07:21 AM                32 data_file.json\n",
      "07/01/2020  11:56 AM    <DIR>          docs\n",
      "07/01/2020  12:20 PM    <DIR>          Folder\n",
      "06/30/2020  05:39 PM               136 myscript.py\n",
      "07/01/2020  12:20 PM    <DIR>          New\n",
      "07/01/2020  11:54 AM    <DIR>          New folder\n",
      "07/05/2020  10:07 PM    <DIR>          NewFolder3\n",
      "07/04/2020  04:58 PM    <DIR>          newfolder5\n",
      "07/04/2020  04:56 PM    <DIR>          newfolder6\n",
      "06/10/2020  10:33 AM               508 operators.py\n",
      "06/08/2020  08:19 PM    <DIR>          PythonDataScienceHandbook-master\n",
      "07/04/2020  05:08 PM            30,248 tabcompletion.GIF\n",
      "07/04/2020  05:10 PM            42,247 tabcompletion.PNG\n",
      "07/04/2020  05:19 PM            34,971 tabimport.png\n",
      "07/01/2020  12:07 PM             2,193 Untitled.ipynb\n",
      "06/30/2020  05:14 PM               601 Untitled1.ipynb\n",
      "07/01/2020  11:38 AM               783 Untitled2.ipynb\n",
      "07/01/2020  11:44 AM             1,166 Untitled3.ipynb\n",
      "07/02/2020  12:43 PM             1,399 Untitled4.ipynb\n",
      "07/04/2020  02:45 PM             2,009 Untitled5.ipynb\n",
      "07/04/2020  04:29 PM            38,106 Untitled6.ipynb\n",
      "07/04/2020  05:15 PM            57,679 Untitled7.ipynb\n",
      "06/27/2020  07:16 AM    <DIR>          WhirlwindTourOfPython-master\n",
      "              18 File(s)        510,810 bytes\n",
      "              15 Dir(s)  81,516,261,376 bytes free\n"
     ]
    }
   ],
   "source": [
    "ls"
   ]
  },
  {
   "cell_type": "code",
   "execution_count": 43,
   "metadata": {},
   "outputs": [
    {
     "name": "stdout",
     "output_type": "stream",
     "text": [
      "'hello professor'\n"
     ]
    }
   ],
   "source": [
    "echo 'hello professor'"
   ]
  },
  {
   "cell_type": "markdown",
   "metadata": {},
   "source": [
    "## Requirement 15"
   ]
  },
  {
   "cell_type": "markdown",
   "metadata": {},
   "source": [
    "#### With automagic set to off, demonstrate five different shell-related magic commands"
   ]
  },
  {
   "cell_type": "code",
   "execution_count": 44,
   "metadata": {},
   "outputs": [
    {
     "name": "stdout",
     "output_type": "stream",
     "text": [
      "\n",
      "Automagic is OFF, % prefix IS needed for line magics.\n"
     ]
    }
   ],
   "source": [
    "%automagic"
   ]
  },
  {
   "cell_type": "code",
   "execution_count": 45,
   "metadata": {},
   "outputs": [
    {
     "data": {
      "text/plain": [
       "{'ALLUSERSPROFILE': 'C:\\\\ProgramData',\n",
       " 'APPDATA': 'C:\\\\Users\\\\USER\\\\AppData\\\\Roaming',\n",
       " 'COMMONPROGRAMFILES': 'C:\\\\Program Files\\\\Common Files',\n",
       " 'COMMONPROGRAMFILES(X86)': 'C:\\\\Program Files (x86)\\\\Common Files',\n",
       " 'COMMONPROGRAMW6432': 'C:\\\\Program Files\\\\Common Files',\n",
       " 'COMPUTERNAME': 'LAPTOP-E32HP3A0',\n",
       " 'COMSPEC': 'C:\\\\WINDOWS\\\\system32\\\\cmd.exe',\n",
       " 'CONFIGSETROOT': 'C:\\\\WINDOWS\\\\ConfigSetRoot',\n",
       " 'DRIVERDATA': 'C:\\\\Windows\\\\System32\\\\Drivers\\\\DriverData',\n",
       " 'FINDDIR': 'C:\\\\WINDOWS\\\\system32',\n",
       " 'FPS_BROWSER_APP_PROFILE_STRING': 'Internet Explorer',\n",
       " 'FPS_BROWSER_USER_PROFILE_STRING': 'Default',\n",
       " 'HOME': 'C:\\\\Users\\\\USER\\\\Desktop\\\\WPy64-3771\\\\settings',\n",
       " 'HOMEDRIVE': 'C:',\n",
       " 'HOMEPATH': '\\\\Users\\\\USER',\n",
       " 'JUPYTER_DATA_DIR': 'C:\\\\Users\\\\USER\\\\Desktop\\\\WPy64-3771\\\\settings',\n",
       " 'LOCALAPPDATA': 'C:\\\\Users\\\\USER\\\\AppData\\\\Local',\n",
       " 'LOGONSERVER': '\\\\\\\\LAPTOP-E32HP3A0',\n",
       " 'NUMBER_OF_PROCESSORS': '4',\n",
       " 'ONEDRIVE': 'C:\\\\Users\\\\USER\\\\OneDrive',\n",
       " 'OS': 'Windows_NT',\n",
       " 'PATH': 'C:\\\\Users\\\\USER\\\\Desktop\\\\WPy64-3771\\\\python-3.7.7.amd64\\\\lib\\\\site-packages\\\\pywin32_system32;C:\\\\Users\\\\USER\\\\Desktop\\\\WPy64-3771\\\\python-3.7.7.amd64\\\\lib\\\\site-packages\\\\numpy\\\\DLLs;C:\\\\Users\\\\USER\\\\Desktop\\\\WPy64-3771\\\\python-3.7.7.amd64\\\\lib\\\\site-packages\\\\pywin32_system32;C:\\\\Users\\\\USER\\\\Desktop\\\\WPy64-3771\\\\python-3.7.7.amd64\\\\Lib\\\\site-packages\\\\PyQt5;C:\\\\Users\\\\USER\\\\Desktop\\\\WPy64-3771\\\\python-3.7.7.amd64\\\\Lib\\\\site-packages\\\\PySide2;C:\\\\Users\\\\USER\\\\Desktop\\\\WPy64-3771\\\\python-3.7.7.amd64\\\\;C:\\\\Users\\\\USER\\\\Desktop\\\\WPy64-3771\\\\python-3.7.7.amd64\\\\DLLs;C:\\\\Users\\\\USER\\\\Desktop\\\\WPy64-3771\\\\python-3.7.7.amd64\\\\Scripts;C:\\\\Users\\\\USER\\\\Desktop\\\\WPy64-3771\\\\python-3.7.7.amd64\\\\..\\\\t;C:\\\\Users\\\\USER\\\\Desktop\\\\WPy64-3771\\\\python-3.7.7.amd64\\\\..\\\\t\\\\mingw32\\\\bin;C:\\\\Users\\\\USER\\\\Desktop\\\\WPy64-3771\\\\python-3.7.7.amd64\\\\..\\\\t\\\\R\\\\bin\\\\x64;C:\\\\Users\\\\USER\\\\Desktop\\\\WPy64-3771\\\\python-3.7.7.amd64\\\\..\\\\t\\\\Julia\\\\bin;C:\\\\Users\\\\USER\\\\Desktop\\\\WPy64-3771\\\\python-3.7.7.amd64\\\\..\\\\n;C:\\\\WINDOWS\\\\system32;C:\\\\WINDOWS;C:\\\\WINDOWS\\\\System32\\\\Wbem;C:\\\\WINDOWS\\\\System32\\\\WindowsPowerShell\\\\v1.0\\\\;C:\\\\WINDOWS\\\\System32\\\\OpenSSH\\\\;C:\\\\Users\\\\USER\\\\AppData\\\\Local\\\\Microsoft\\\\WindowsApps;;',\n",
       " 'PATHEXT': '.COM;.EXE;.BAT;.CMD;.VBS;.VBE;.JS;.JSE;.WSF;.WSH;.MSC',\n",
       " 'PROCESSOR_ARCHITECTURE': 'AMD64',\n",
       " 'PROCESSOR_IDENTIFIER': 'Intel64 Family 6 Model 142 Stepping 11, GenuineIntel',\n",
       " 'PROCESSOR_LEVEL': '6',\n",
       " 'PROCESSOR_REVISION': '8e0b',\n",
       " 'PROGRAMDATA': 'C:\\\\ProgramData',\n",
       " 'PROGRAMFILES': 'C:\\\\Program Files',\n",
       " 'PROGRAMFILES(X86)': 'C:\\\\Program Files (x86)',\n",
       " 'PROGRAMW6432': 'C:\\\\Program Files',\n",
       " 'PROMPT': '$P$G',\n",
       " 'PSMODULEPATH': 'C:\\\\Program Files\\\\WindowsPowerShell\\\\Modules;C:\\\\WINDOWS\\\\system32\\\\WindowsPowerShell\\\\v1.0\\\\Modules',\n",
       " 'PUBLIC': 'C:\\\\Users\\\\Public',\n",
       " 'PYTHON': 'C:\\\\Users\\\\USER\\\\Desktop\\\\WPy64-3771\\\\python-3.7.7.amd64\\\\python.exe',\n",
       " 'QT_API': 'pyqt5',\n",
       " 'SESSIONNAME': 'Console',\n",
       " 'SYSTEMDRIVE': 'C:',\n",
       " 'SYSTEMROOT': 'C:\\\\WINDOWS',\n",
       " 'TEMP': 'C:\\\\Users\\\\USER\\\\AppData\\\\Local\\\\Temp',\n",
       " 'TMP': 'C:\\\\Users\\\\USER\\\\AppData\\\\Local\\\\Temp',\n",
       " 'TMP_PYZ': 'C:\\\\Users\\\\USER\\\\Desktop\\\\WPy64-3771\\\\python-3.7.7.amd64\\\\Lib\\\\site-packages\\\\PyQt5\\\\qt.conf',\n",
       " 'USERDOMAIN': 'LAPTOP-E32HP3A0',\n",
       " 'USERDOMAIN_ROAMINGPROFILE': 'LAPTOP-E32HP3A0',\n",
       " 'USERNAME': 'USER',\n",
       " 'USERPROFILE': 'C:\\\\Users\\\\USER',\n",
       " 'WINDIR': 'C:\\\\WINDOWS',\n",
       " 'WINPYARCH': 'WIN-AMD64',\n",
       " 'WINPYDEBUG': 'disabled',\n",
       " 'WINPYDIR': 'C:\\\\Users\\\\USER\\\\Desktop\\\\WPy64-3771\\\\python-3.7.7.amd64',\n",
       " 'WINPYDIRBASE': 'C:\\\\Users\\\\USER\\\\Desktop\\\\WPy64-3771',\n",
       " 'WINPYTHON_INI': 'C:\\\\Users\\\\USER\\\\Desktop\\\\WPy64-3771\\\\settings\\\\winpython.ini',\n",
       " 'WINPYVER': '3.7.7.1',\n",
       " 'WINPYWORKDIR': 'C:\\\\Users\\\\USER\\\\Desktop\\\\WPy64-3771\\\\scripts\\\\..\\\\Notebooks',\n",
       " 'KERNEL_LAUNCH_TIMEOUT': '40',\n",
       " 'FOR_DISABLE_CONSOLE_CTRL_HANDLER': '1',\n",
       " 'OPENBLAS_MAIN_FREE': '1',\n",
       " 'GOTOBLAS_MAIN_FREE': '1',\n",
       " 'JPY_INTERRUPT_EVENT': '2432',\n",
       " 'IPY_INTERRUPT_EVENT': '2432',\n",
       " 'JPY_PARENT_PID': '2416',\n",
       " 'TERM': 'xterm-color',\n",
       " 'CLICOLOR': '1',\n",
       " 'PAGER': 'cat',\n",
       " 'GIT_PAGER': 'cat',\n",
       " 'MPLBACKEND': 'module://ipykernel.pylab.backend_inline'}"
      ]
     },
     "execution_count": 45,
     "metadata": {},
     "output_type": "execute_result"
    }
   ],
   "source": [
    "%env"
   ]
  },
  {
   "cell_type": "code",
   "execution_count": 46,
   "metadata": {},
   "outputs": [
    {
     "name": "stdout",
     "output_type": "stream",
     "text": [
      " Volume in drive C is Windows-SSD\n",
      " Volume Serial Number is 96E3-FF8E\n",
      "\n",
      " Directory of C:\\Users\\USER\\Desktop\\WPy64-3771\\notebooks\n",
      "\n",
      "07/05/2020  10:07 PM    <DIR>          .\n",
      "07/05/2020  10:07 PM    <DIR>          ..\n",
      "07/04/2020  05:07 PM    <DIR>          .ipynb_checkpoints\n",
      "06/10/2020  10:34 AM    <DIR>          __pycache__\n",
      "07/01/2020  12:20 PM    <DIR>          2\n",
      "07/05/2020  10:07 PM    <DIR>          3\n",
      "06/24/2020  08:03 PM            13,102 assignment-05.ipynb\n",
      "06/24/2020  08:12 PM            25,219 assignment-06.ipynb\n",
      "06/27/2020  07:29 AM            72,029 assignment-07.ipynb\n",
      "07/05/2020  10:07 PM           188,382 assignment-08.ipynb\n",
      "06/27/2020  07:21 AM                32 data_file.json\n",
      "07/01/2020  11:56 AM    <DIR>          docs\n",
      "07/01/2020  12:20 PM    <DIR>          Folder\n",
      "06/30/2020  05:39 PM               136 myscript.py\n",
      "07/01/2020  12:20 PM    <DIR>          New\n",
      "07/01/2020  11:54 AM    <DIR>          New folder\n",
      "07/05/2020  10:07 PM    <DIR>          NewFolder3\n",
      "07/04/2020  04:58 PM    <DIR>          newfolder5\n",
      "07/04/2020  04:56 PM    <DIR>          newfolder6\n",
      "06/10/2020  10:33 AM               508 operators.py\n",
      "06/08/2020  08:19 PM    <DIR>          PythonDataScienceHandbook-master\n",
      "07/04/2020  05:08 PM            30,248 tabcompletion.GIF\n",
      "07/04/2020  05:10 PM            42,247 tabcompletion.PNG\n",
      "07/04/2020  05:19 PM            34,971 tabimport.png\n",
      "07/01/2020  12:07 PM             2,193 Untitled.ipynb\n",
      "06/30/2020  05:14 PM               601 Untitled1.ipynb\n",
      "07/01/2020  11:38 AM               783 Untitled2.ipynb\n",
      "07/01/2020  11:44 AM             1,166 Untitled3.ipynb\n",
      "07/02/2020  12:43 PM             1,399 Untitled4.ipynb\n",
      "07/04/2020  02:45 PM             2,009 Untitled5.ipynb\n",
      "07/04/2020  04:29 PM            38,106 Untitled6.ipynb\n",
      "07/04/2020  05:15 PM            57,679 Untitled7.ipynb\n",
      "06/27/2020  07:16 AM    <DIR>          WhirlwindTourOfPython-master\n",
      "              18 File(s)        510,810 bytes\n",
      "              15 Dir(s)  81,516,261,376 bytes free\n"
     ]
    }
   ],
   "source": [
    "%ls"
   ]
  },
  {
   "cell_type": "code",
   "execution_count": 47,
   "metadata": {},
   "outputs": [
    {
     "data": {
      "text/plain": [
       "'C:\\\\Users\\\\USER\\\\Desktop\\\\WPy64-3771\\\\notebooks'"
      ]
     },
     "execution_count": 47,
     "metadata": {},
     "output_type": "execute_result"
    }
   ],
   "source": [
    "%pwd"
   ]
  },
  {
   "cell_type": "code",
   "execution_count": 49,
   "metadata": {},
   "outputs": [],
   "source": [
    "%mkdir newfolder7"
   ]
  },
  {
   "cell_type": "code",
   "execution_count": 50,
   "metadata": {},
   "outputs": [
    {
     "name": "stdout",
     "output_type": "stream",
     "text": [
      "C:\\Users\\USER\\Desktop\\WPy64-3771\\notebooks\\newfolder7\n"
     ]
    }
   ],
   "source": [
    "%cd newfolder7/"
   ]
  },
  {
   "cell_type": "markdown",
   "metadata": {},
   "source": [
    "# Requirement 16"
   ]
  },
  {
   "cell_type": "markdown",
   "metadata": {},
   "source": [
    "#### With automagic set to on, demonstrate five different shell related magic commands"
   ]
  },
  {
   "cell_type": "code",
   "execution_count": 51,
   "metadata": {},
   "outputs": [
    {
     "name": "stdout",
     "output_type": "stream",
     "text": [
      "\n",
      "Automagic is ON, % prefix IS NOT needed for line magics.\n"
     ]
    }
   ],
   "source": [
    "%automagic"
   ]
  },
  {
   "cell_type": "code",
   "execution_count": 52,
   "metadata": {},
   "outputs": [
    {
     "data": {
      "text/plain": [
       "{'ALLUSERSPROFILE': 'C:\\\\ProgramData',\n",
       " 'APPDATA': 'C:\\\\Users\\\\USER\\\\AppData\\\\Roaming',\n",
       " 'COMMONPROGRAMFILES': 'C:\\\\Program Files\\\\Common Files',\n",
       " 'COMMONPROGRAMFILES(X86)': 'C:\\\\Program Files (x86)\\\\Common Files',\n",
       " 'COMMONPROGRAMW6432': 'C:\\\\Program Files\\\\Common Files',\n",
       " 'COMPUTERNAME': 'LAPTOP-E32HP3A0',\n",
       " 'COMSPEC': 'C:\\\\WINDOWS\\\\system32\\\\cmd.exe',\n",
       " 'CONFIGSETROOT': 'C:\\\\WINDOWS\\\\ConfigSetRoot',\n",
       " 'DRIVERDATA': 'C:\\\\Windows\\\\System32\\\\Drivers\\\\DriverData',\n",
       " 'FINDDIR': 'C:\\\\WINDOWS\\\\system32',\n",
       " 'FPS_BROWSER_APP_PROFILE_STRING': 'Internet Explorer',\n",
       " 'FPS_BROWSER_USER_PROFILE_STRING': 'Default',\n",
       " 'HOME': 'C:\\\\Users\\\\USER\\\\Desktop\\\\WPy64-3771\\\\settings',\n",
       " 'HOMEDRIVE': 'C:',\n",
       " 'HOMEPATH': '\\\\Users\\\\USER',\n",
       " 'JUPYTER_DATA_DIR': 'C:\\\\Users\\\\USER\\\\Desktop\\\\WPy64-3771\\\\settings',\n",
       " 'LOCALAPPDATA': 'C:\\\\Users\\\\USER\\\\AppData\\\\Local',\n",
       " 'LOGONSERVER': '\\\\\\\\LAPTOP-E32HP3A0',\n",
       " 'NUMBER_OF_PROCESSORS': '4',\n",
       " 'ONEDRIVE': 'C:\\\\Users\\\\USER\\\\OneDrive',\n",
       " 'OS': 'Windows_NT',\n",
       " 'PATH': 'C:\\\\Users\\\\USER\\\\Desktop\\\\WPy64-3771\\\\python-3.7.7.amd64\\\\lib\\\\site-packages\\\\pywin32_system32;C:\\\\Users\\\\USER\\\\Desktop\\\\WPy64-3771\\\\python-3.7.7.amd64\\\\lib\\\\site-packages\\\\numpy\\\\DLLs;C:\\\\Users\\\\USER\\\\Desktop\\\\WPy64-3771\\\\python-3.7.7.amd64\\\\lib\\\\site-packages\\\\pywin32_system32;C:\\\\Users\\\\USER\\\\Desktop\\\\WPy64-3771\\\\python-3.7.7.amd64\\\\Lib\\\\site-packages\\\\PyQt5;C:\\\\Users\\\\USER\\\\Desktop\\\\WPy64-3771\\\\python-3.7.7.amd64\\\\Lib\\\\site-packages\\\\PySide2;C:\\\\Users\\\\USER\\\\Desktop\\\\WPy64-3771\\\\python-3.7.7.amd64\\\\;C:\\\\Users\\\\USER\\\\Desktop\\\\WPy64-3771\\\\python-3.7.7.amd64\\\\DLLs;C:\\\\Users\\\\USER\\\\Desktop\\\\WPy64-3771\\\\python-3.7.7.amd64\\\\Scripts;C:\\\\Users\\\\USER\\\\Desktop\\\\WPy64-3771\\\\python-3.7.7.amd64\\\\..\\\\t;C:\\\\Users\\\\USER\\\\Desktop\\\\WPy64-3771\\\\python-3.7.7.amd64\\\\..\\\\t\\\\mingw32\\\\bin;C:\\\\Users\\\\USER\\\\Desktop\\\\WPy64-3771\\\\python-3.7.7.amd64\\\\..\\\\t\\\\R\\\\bin\\\\x64;C:\\\\Users\\\\USER\\\\Desktop\\\\WPy64-3771\\\\python-3.7.7.amd64\\\\..\\\\t\\\\Julia\\\\bin;C:\\\\Users\\\\USER\\\\Desktop\\\\WPy64-3771\\\\python-3.7.7.amd64\\\\..\\\\n;C:\\\\WINDOWS\\\\system32;C:\\\\WINDOWS;C:\\\\WINDOWS\\\\System32\\\\Wbem;C:\\\\WINDOWS\\\\System32\\\\WindowsPowerShell\\\\v1.0\\\\;C:\\\\WINDOWS\\\\System32\\\\OpenSSH\\\\;C:\\\\Users\\\\USER\\\\AppData\\\\Local\\\\Microsoft\\\\WindowsApps;;',\n",
       " 'PATHEXT': '.COM;.EXE;.BAT;.CMD;.VBS;.VBE;.JS;.JSE;.WSF;.WSH;.MSC',\n",
       " 'PROCESSOR_ARCHITECTURE': 'AMD64',\n",
       " 'PROCESSOR_IDENTIFIER': 'Intel64 Family 6 Model 142 Stepping 11, GenuineIntel',\n",
       " 'PROCESSOR_LEVEL': '6',\n",
       " 'PROCESSOR_REVISION': '8e0b',\n",
       " 'PROGRAMDATA': 'C:\\\\ProgramData',\n",
       " 'PROGRAMFILES': 'C:\\\\Program Files',\n",
       " 'PROGRAMFILES(X86)': 'C:\\\\Program Files (x86)',\n",
       " 'PROGRAMW6432': 'C:\\\\Program Files',\n",
       " 'PROMPT': '$P$G',\n",
       " 'PSMODULEPATH': 'C:\\\\Program Files\\\\WindowsPowerShell\\\\Modules;C:\\\\WINDOWS\\\\system32\\\\WindowsPowerShell\\\\v1.0\\\\Modules',\n",
       " 'PUBLIC': 'C:\\\\Users\\\\Public',\n",
       " 'PYTHON': 'C:\\\\Users\\\\USER\\\\Desktop\\\\WPy64-3771\\\\python-3.7.7.amd64\\\\python.exe',\n",
       " 'QT_API': 'pyqt5',\n",
       " 'SESSIONNAME': 'Console',\n",
       " 'SYSTEMDRIVE': 'C:',\n",
       " 'SYSTEMROOT': 'C:\\\\WINDOWS',\n",
       " 'TEMP': 'C:\\\\Users\\\\USER\\\\AppData\\\\Local\\\\Temp',\n",
       " 'TMP': 'C:\\\\Users\\\\USER\\\\AppData\\\\Local\\\\Temp',\n",
       " 'TMP_PYZ': 'C:\\\\Users\\\\USER\\\\Desktop\\\\WPy64-3771\\\\python-3.7.7.amd64\\\\Lib\\\\site-packages\\\\PyQt5\\\\qt.conf',\n",
       " 'USERDOMAIN': 'LAPTOP-E32HP3A0',\n",
       " 'USERDOMAIN_ROAMINGPROFILE': 'LAPTOP-E32HP3A0',\n",
       " 'USERNAME': 'USER',\n",
       " 'USERPROFILE': 'C:\\\\Users\\\\USER',\n",
       " 'WINDIR': 'C:\\\\WINDOWS',\n",
       " 'WINPYARCH': 'WIN-AMD64',\n",
       " 'WINPYDEBUG': 'disabled',\n",
       " 'WINPYDIR': 'C:\\\\Users\\\\USER\\\\Desktop\\\\WPy64-3771\\\\python-3.7.7.amd64',\n",
       " 'WINPYDIRBASE': 'C:\\\\Users\\\\USER\\\\Desktop\\\\WPy64-3771',\n",
       " 'WINPYTHON_INI': 'C:\\\\Users\\\\USER\\\\Desktop\\\\WPy64-3771\\\\settings\\\\winpython.ini',\n",
       " 'WINPYVER': '3.7.7.1',\n",
       " 'WINPYWORKDIR': 'C:\\\\Users\\\\USER\\\\Desktop\\\\WPy64-3771\\\\scripts\\\\..\\\\Notebooks',\n",
       " 'KERNEL_LAUNCH_TIMEOUT': '40',\n",
       " 'FOR_DISABLE_CONSOLE_CTRL_HANDLER': '1',\n",
       " 'OPENBLAS_MAIN_FREE': '1',\n",
       " 'GOTOBLAS_MAIN_FREE': '1',\n",
       " 'JPY_INTERRUPT_EVENT': '2432',\n",
       " 'IPY_INTERRUPT_EVENT': '2432',\n",
       " 'JPY_PARENT_PID': '2416',\n",
       " 'TERM': 'xterm-color',\n",
       " 'CLICOLOR': '1',\n",
       " 'PAGER': 'cat',\n",
       " 'GIT_PAGER': 'cat',\n",
       " 'MPLBACKEND': 'module://ipykernel.pylab.backend_inline'}"
      ]
     },
     "execution_count": 52,
     "metadata": {},
     "output_type": "execute_result"
    }
   ],
   "source": [
    "env"
   ]
  },
  {
   "cell_type": "code",
   "execution_count": 53,
   "metadata": {},
   "outputs": [
    {
     "name": "stdout",
     "output_type": "stream",
     "text": [
      " Volume in drive C is Windows-SSD\n",
      " Volume Serial Number is 96E3-FF8E\n",
      "\n",
      " Directory of C:\\Users\\USER\\Desktop\\WPy64-3771\\notebooks\\newfolder7\n",
      "\n",
      "07/05/2020  10:07 PM    <DIR>          .\n",
      "07/05/2020  10:07 PM    <DIR>          ..\n",
      "               0 File(s)              0 bytes\n",
      "               2 Dir(s)  81,516,261,376 bytes free\n"
     ]
    }
   ],
   "source": [
    "ls"
   ]
  },
  {
   "cell_type": "code",
   "execution_count": 54,
   "metadata": {},
   "outputs": [
    {
     "data": {
      "text/plain": [
       "'C:\\\\Users\\\\USER\\\\Desktop\\\\WPy64-3771\\\\notebooks\\\\newfolder7'"
      ]
     },
     "execution_count": 54,
     "metadata": {},
     "output_type": "execute_result"
    }
   ],
   "source": [
    "pwd"
   ]
  },
  {
   "cell_type": "code",
   "execution_count": 55,
   "metadata": {},
   "outputs": [],
   "source": [
    "mkdir newfolder6"
   ]
  },
  {
   "cell_type": "code",
   "execution_count": 56,
   "metadata": {},
   "outputs": [
    {
     "name": "stdout",
     "output_type": "stream",
     "text": [
      "C:\\Users\\USER\\Desktop\\WPy64-3771\\notebooks\\newfolder7\\newfolder6\n"
     ]
    }
   ],
   "source": [
    "cd newfolder6/"
   ]
  },
  {
   "cell_type": "markdown",
   "metadata": {},
   "source": [
    "## Requirement 17"
   ]
  },
  {
   "cell_type": "markdown",
   "metadata": {},
   "source": [
    "#### Demonstrate the use of the %xmode function"
   ]
  },
  {
   "cell_type": "code",
   "execution_count": 57,
   "metadata": {},
   "outputs": [],
   "source": [
    "def function1(y, z):\n",
    "    return y / z\n",
    "\n",
    "def function2(n):\n",
    "    y = n\n",
    "    z = n + 5\n",
    "    return function1(y, z)"
   ]
  },
  {
   "cell_type": "code",
   "execution_count": 58,
   "metadata": {},
   "outputs": [
    {
     "name": "stdout",
     "output_type": "stream",
     "text": [
      "Exception reporting mode: Context\n"
     ]
    },
    {
     "ename": "ZeroDivisionError",
     "evalue": "division by zero",
     "output_type": "error",
     "traceback": [
      "\u001b[1;31m---------------------------------------------------------------------------\u001b[0m",
      "\u001b[1;31mZeroDivisionError\u001b[0m                         Traceback (most recent call last)",
      "\u001b[1;32m<ipython-input-58-03d628c7f244>\u001b[0m in \u001b[0;36m<module>\u001b[1;34m\u001b[0m\n\u001b[0;32m      1\u001b[0m \u001b[0mget_ipython\u001b[0m\u001b[1;33m(\u001b[0m\u001b[1;33m)\u001b[0m\u001b[1;33m.\u001b[0m\u001b[0mrun_line_magic\u001b[0m\u001b[1;33m(\u001b[0m\u001b[1;34m'xmode'\u001b[0m\u001b[1;33m,\u001b[0m \u001b[1;34m'Context'\u001b[0m\u001b[1;33m)\u001b[0m\u001b[1;33m\u001b[0m\u001b[1;33m\u001b[0m\u001b[0m\n\u001b[1;32m----> 2\u001b[1;33m \u001b[0mfunction2\u001b[0m\u001b[1;33m(\u001b[0m\u001b[1;33m-\u001b[0m\u001b[1;36m5\u001b[0m\u001b[1;33m)\u001b[0m \u001b[1;31m#returns default error message\u001b[0m\u001b[1;33m\u001b[0m\u001b[1;33m\u001b[0m\u001b[0m\n\u001b[0m",
      "\u001b[1;32m<ipython-input-57-b61827644f77>\u001b[0m in \u001b[0;36mfunction2\u001b[1;34m(n)\u001b[0m\n\u001b[0;32m      5\u001b[0m     \u001b[0my\u001b[0m \u001b[1;33m=\u001b[0m \u001b[0mn\u001b[0m\u001b[1;33m\u001b[0m\u001b[1;33m\u001b[0m\u001b[0m\n\u001b[0;32m      6\u001b[0m     \u001b[0mz\u001b[0m \u001b[1;33m=\u001b[0m \u001b[0mn\u001b[0m \u001b[1;33m+\u001b[0m \u001b[1;36m5\u001b[0m\u001b[1;33m\u001b[0m\u001b[1;33m\u001b[0m\u001b[0m\n\u001b[1;32m----> 7\u001b[1;33m     \u001b[1;32mreturn\u001b[0m \u001b[0mfunction1\u001b[0m\u001b[1;33m(\u001b[0m\u001b[0my\u001b[0m\u001b[1;33m,\u001b[0m \u001b[0mz\u001b[0m\u001b[1;33m)\u001b[0m\u001b[1;33m\u001b[0m\u001b[1;33m\u001b[0m\u001b[0m\n\u001b[0m",
      "\u001b[1;32m<ipython-input-57-b61827644f77>\u001b[0m in \u001b[0;36mfunction1\u001b[1;34m(y, z)\u001b[0m\n\u001b[0;32m      1\u001b[0m \u001b[1;32mdef\u001b[0m \u001b[0mfunction1\u001b[0m\u001b[1;33m(\u001b[0m\u001b[0my\u001b[0m\u001b[1;33m,\u001b[0m \u001b[0mz\u001b[0m\u001b[1;33m)\u001b[0m\u001b[1;33m:\u001b[0m\u001b[1;33m\u001b[0m\u001b[1;33m\u001b[0m\u001b[0m\n\u001b[1;32m----> 2\u001b[1;33m     \u001b[1;32mreturn\u001b[0m \u001b[0my\u001b[0m \u001b[1;33m/\u001b[0m \u001b[0mz\u001b[0m\u001b[1;33m\u001b[0m\u001b[1;33m\u001b[0m\u001b[0m\n\u001b[0m\u001b[0;32m      3\u001b[0m \u001b[1;33m\u001b[0m\u001b[0m\n\u001b[0;32m      4\u001b[0m \u001b[1;32mdef\u001b[0m \u001b[0mfunction2\u001b[0m\u001b[1;33m(\u001b[0m\u001b[0mn\u001b[0m\u001b[1;33m)\u001b[0m\u001b[1;33m:\u001b[0m\u001b[1;33m\u001b[0m\u001b[1;33m\u001b[0m\u001b[0m\n\u001b[0;32m      5\u001b[0m     \u001b[0my\u001b[0m \u001b[1;33m=\u001b[0m \u001b[0mn\u001b[0m\u001b[1;33m\u001b[0m\u001b[1;33m\u001b[0m\u001b[0m\n",
      "\u001b[1;31mZeroDivisionError\u001b[0m: division by zero"
     ]
    }
   ],
   "source": [
    "%xmode Context\n",
    "function2(-5) #returns default error message"
   ]
  },
  {
   "cell_type": "code",
   "execution_count": 59,
   "metadata": {},
   "outputs": [
    {
     "name": "stdout",
     "output_type": "stream",
     "text": [
      "Exception reporting mode: Plain\n"
     ]
    },
    {
     "ename": "ZeroDivisionError",
     "evalue": "division by zero",
     "output_type": "error",
     "traceback": [
      "Traceback \u001b[1;36m(most recent call last)\u001b[0m:\n",
      "  File \u001b[0;32m\"<ipython-input-59-1452fc2e0c4e>\"\u001b[0m, line \u001b[0;32m2\u001b[0m, in \u001b[0;35m<module>\u001b[0m\n    function2(-5) #returns an error message that is more compact and gives less information\n",
      "  File \u001b[0;32m\"<ipython-input-57-b61827644f77>\"\u001b[0m, line \u001b[0;32m7\u001b[0m, in \u001b[0;35mfunction2\u001b[0m\n    return function1(y, z)\n",
      "\u001b[1;36m  File \u001b[1;32m\"<ipython-input-57-b61827644f77>\"\u001b[1;36m, line \u001b[1;32m2\u001b[1;36m, in \u001b[1;35mfunction1\u001b[1;36m\u001b[0m\n\u001b[1;33m    return y / z\u001b[0m\n",
      "\u001b[1;31mZeroDivisionError\u001b[0m\u001b[1;31m:\u001b[0m division by zero\n"
     ]
    }
   ],
   "source": [
    "%xmode Plain\n",
    "function2(-5) #returns an error message that is more compact and gives less information"
   ]
  },
  {
   "cell_type": "code",
   "execution_count": 60,
   "metadata": {},
   "outputs": [
    {
     "name": "stdout",
     "output_type": "stream",
     "text": [
      "Exception reporting mode: Verbose\n"
     ]
    },
    {
     "ename": "ZeroDivisionError",
     "evalue": "division by zero",
     "output_type": "error",
     "traceback": [
      "\u001b[1;31m---------------------------------------------------------------------------\u001b[0m",
      "\u001b[1;31mZeroDivisionError\u001b[0m                         Traceback (most recent call last)",
      "\u001b[1;32m<ipython-input-60-bc6a9f2cbfd3>\u001b[0m in \u001b[0;36m<module>\u001b[1;34m\u001b[0m\n\u001b[0;32m      1\u001b[0m \u001b[0mget_ipython\u001b[0m\u001b[1;33m(\u001b[0m\u001b[1;33m)\u001b[0m\u001b[1;33m.\u001b[0m\u001b[0mrun_line_magic\u001b[0m\u001b[1;33m(\u001b[0m\u001b[1;34m'xmode'\u001b[0m\u001b[1;33m,\u001b[0m \u001b[1;34m'Verbose'\u001b[0m\u001b[1;33m)\u001b[0m\u001b[1;33m\u001b[0m\u001b[1;33m\u001b[0m\u001b[0m\n\u001b[1;32m----> 2\u001b[1;33m \u001b[0mfunction2\u001b[0m\u001b[1;33m(\u001b[0m\u001b[1;33m-\u001b[0m\u001b[1;36m5\u001b[0m\u001b[1;33m)\u001b[0m\u001b[1;33m\u001b[0m\u001b[1;33m\u001b[0m\u001b[0m\n\u001b[0m        \u001b[1;36mglobal\u001b[0m \u001b[0;36mfunction2\u001b[0m \u001b[1;34m= <function function2 at 0x00000125202511F8>\u001b[0m\n",
      "\u001b[1;32m<ipython-input-57-b61827644f77>\u001b[0m in \u001b[0;36mfunction2\u001b[1;34m(n=-5)\u001b[0m\n\u001b[0;32m      5\u001b[0m     \u001b[0my\u001b[0m \u001b[1;33m=\u001b[0m \u001b[0mn\u001b[0m\u001b[1;33m\u001b[0m\u001b[1;33m\u001b[0m\u001b[0m\n\u001b[0;32m      6\u001b[0m     \u001b[0mz\u001b[0m \u001b[1;33m=\u001b[0m \u001b[0mn\u001b[0m \u001b[1;33m+\u001b[0m \u001b[1;36m5\u001b[0m\u001b[1;33m\u001b[0m\u001b[1;33m\u001b[0m\u001b[0m\n\u001b[1;32m----> 7\u001b[1;33m     \u001b[1;32mreturn\u001b[0m \u001b[0mfunction1\u001b[0m\u001b[1;33m(\u001b[0m\u001b[0my\u001b[0m\u001b[1;33m,\u001b[0m \u001b[0mz\u001b[0m\u001b[1;33m)\u001b[0m\u001b[1;33m\u001b[0m\u001b[1;33m\u001b[0m\u001b[0m\n\u001b[0m        \u001b[1;36mglobal\u001b[0m \u001b[0;36mfunction1\u001b[0m \u001b[1;34m= <function function1 at 0x00000125202514C8>\u001b[0m\u001b[1;34m\n        \u001b[0m\u001b[0;36my\u001b[0m \u001b[1;34m= -5\u001b[0m\u001b[1;34m\n        \u001b[0m\u001b[0;36mz\u001b[0m \u001b[1;34m= 0\u001b[0m\n",
      "\u001b[1;32m<ipython-input-57-b61827644f77>\u001b[0m in \u001b[0;36mfunction1\u001b[1;34m(y=-5, z=0)\u001b[0m\n\u001b[0;32m      1\u001b[0m \u001b[1;32mdef\u001b[0m \u001b[0mfunction1\u001b[0m\u001b[1;33m(\u001b[0m\u001b[0my\u001b[0m\u001b[1;33m,\u001b[0m \u001b[0mz\u001b[0m\u001b[1;33m)\u001b[0m\u001b[1;33m:\u001b[0m\u001b[1;33m\u001b[0m\u001b[1;33m\u001b[0m\u001b[0m\n\u001b[1;32m----> 2\u001b[1;33m     \u001b[1;32mreturn\u001b[0m \u001b[0my\u001b[0m \u001b[1;33m/\u001b[0m \u001b[0mz\u001b[0m\u001b[1;33m\u001b[0m\u001b[1;33m\u001b[0m\u001b[0m\n\u001b[0m        \u001b[0;36my\u001b[0m \u001b[1;34m= -5\u001b[0m\u001b[1;34m\n        \u001b[0m\u001b[0;36mz\u001b[0m \u001b[1;34m= 0\u001b[0m\n\u001b[0;32m      3\u001b[0m \u001b[1;33m\u001b[0m\u001b[0m\n\u001b[0;32m      4\u001b[0m \u001b[1;32mdef\u001b[0m \u001b[0mfunction2\u001b[0m\u001b[1;33m(\u001b[0m\u001b[0mn\u001b[0m\u001b[1;33m)\u001b[0m\u001b[1;33m:\u001b[0m\u001b[1;33m\u001b[0m\u001b[1;33m\u001b[0m\u001b[0m\n\u001b[0;32m      5\u001b[0m     \u001b[0my\u001b[0m \u001b[1;33m=\u001b[0m \u001b[0mn\u001b[0m\u001b[1;33m\u001b[0m\u001b[1;33m\u001b[0m\u001b[0m\n",
      "\u001b[1;31mZeroDivisionError\u001b[0m: division by zero"
     ]
    }
   ],
   "source": [
    "%xmode Verbose\n",
    "function2(-5)"
   ]
  },
  {
   "cell_type": "markdown",
   "metadata": {},
   "source": [
    "## Requirement 18"
   ]
  },
  {
   "cell_type": "markdown",
   "metadata": {},
   "source": [
    "#### Use *Error? to show the list of Python system exceptions. \n",
    "#### Demonstrate throwing three of these exception types (in separate code segments.)"
   ]
  },
  {
   "cell_type": "code",
   "execution_count": 61,
   "metadata": {},
   "outputs": [
    {
     "name": "stdout",
     "output_type": "stream",
     "text": [
      "ArithmeticError\n",
      "AssertionError\n",
      "AttributeError\n",
      "BlockingIOError\n",
      "BrokenPipeError\n",
      "BufferError\n",
      "ChildProcessError\n",
      "ConnectionAbortedError\n",
      "ConnectionError\n",
      "ConnectionRefusedError\n",
      "ConnectionResetError\n",
      "EOFError\n",
      "EnvironmentError\n",
      "FileExistsError\n",
      "FileNotFoundError\n",
      "FloatingPointError\n",
      "IOError\n",
      "ImportError\n",
      "IndentationError\n",
      "IndexError\n",
      "InterruptedError\n",
      "IsADirectoryError\n",
      "KeyError\n",
      "LookupError\n",
      "MemoryError\n",
      "ModuleNotFoundError\n",
      "NameError\n",
      "NotADirectoryError\n",
      "NotImplementedError\n",
      "OSError\n",
      "OverflowError\n",
      "PermissionError\n",
      "ProcessLookupError\n",
      "RecursionError\n",
      "ReferenceError\n",
      "RuntimeError\n",
      "SyntaxError\n",
      "SystemError\n",
      "TabError\n",
      "TimeoutError\n",
      "TypeError\n",
      "UnboundLocalError\n",
      "UnicodeDecodeError\n",
      "UnicodeEncodeError\n",
      "UnicodeError\n",
      "UnicodeTranslateError\n",
      "ValueError\n",
      "WindowsError\n",
      "ZeroDivisionError\n"
     ]
    }
   ],
   "source": [
    "*Error?"
   ]
  },
  {
   "cell_type": "code",
   "execution_count": 62,
   "metadata": {
    "scrolled": true
   },
   "outputs": [
    {
     "ename": "ZeroDivisionError",
     "evalue": "division by zero",
     "output_type": "error",
     "traceback": [
      "\u001b[1;31m---------------------------------------------------------------------------\u001b[0m",
      "\u001b[1;31mZeroDivisionError\u001b[0m                         Traceback (most recent call last)",
      "\u001b[1;32m<ipython-input-62-7b01cabf563d>\u001b[0m in \u001b[0;36m<module>\u001b[1;34m\u001b[0m\n\u001b[0;32m      8\u001b[0m     \u001b[1;32mreturn\u001b[0m \u001b[0mfunction1\u001b[0m\u001b[1;33m(\u001b[0m\u001b[0my\u001b[0m\u001b[1;33m,\u001b[0m \u001b[0mz\u001b[0m\u001b[1;33m)\u001b[0m\u001b[1;33m\u001b[0m\u001b[1;33m\u001b[0m\u001b[0m\n\u001b[0;32m      9\u001b[0m \u001b[1;33m\u001b[0m\u001b[0m\n\u001b[1;32m---> 10\u001b[1;33m \u001b[0mfunction2\u001b[0m\u001b[1;33m(\u001b[0m\u001b[1;33m-\u001b[0m\u001b[1;36m5\u001b[0m\u001b[1;33m)\u001b[0m\u001b[1;33m\u001b[0m\u001b[1;33m\u001b[0m\u001b[0m\n\u001b[0m        \u001b[1;36mglobal\u001b[0m \u001b[0;36mfunction2\u001b[0m \u001b[1;34m= <function function2 at 0x0000012520251708>\u001b[0m\n",
      "\u001b[1;32m<ipython-input-62-7b01cabf563d>\u001b[0m in \u001b[0;36mfunction2\u001b[1;34m(n=-5)\u001b[0m\n\u001b[0;32m      6\u001b[0m     \u001b[0my\u001b[0m \u001b[1;33m=\u001b[0m \u001b[0mn\u001b[0m\u001b[1;33m\u001b[0m\u001b[1;33m\u001b[0m\u001b[0m\n\u001b[0;32m      7\u001b[0m     \u001b[0mz\u001b[0m \u001b[1;33m=\u001b[0m \u001b[0mn\u001b[0m \u001b[1;33m+\u001b[0m \u001b[1;36m5\u001b[0m\u001b[1;33m\u001b[0m\u001b[1;33m\u001b[0m\u001b[0m\n\u001b[1;32m----> 8\u001b[1;33m     \u001b[1;32mreturn\u001b[0m \u001b[0mfunction1\u001b[0m\u001b[1;33m(\u001b[0m\u001b[0my\u001b[0m\u001b[1;33m,\u001b[0m \u001b[0mz\u001b[0m\u001b[1;33m)\u001b[0m\u001b[1;33m\u001b[0m\u001b[1;33m\u001b[0m\u001b[0m\n\u001b[0m        \u001b[1;36mglobal\u001b[0m \u001b[0;36mfunction1\u001b[0m \u001b[1;34m= <function function1 at 0x00000125202519D8>\u001b[0m\u001b[1;34m\n        \u001b[0m\u001b[0;36my\u001b[0m \u001b[1;34m= -5\u001b[0m\u001b[1;34m\n        \u001b[0m\u001b[0;36mz\u001b[0m \u001b[1;34m= 0\u001b[0m\n\u001b[0;32m      9\u001b[0m \u001b[1;33m\u001b[0m\u001b[0m\n\u001b[0;32m     10\u001b[0m \u001b[0mfunction2\u001b[0m\u001b[1;33m(\u001b[0m\u001b[1;33m-\u001b[0m\u001b[1;36m5\u001b[0m\u001b[1;33m)\u001b[0m\u001b[1;33m\u001b[0m\u001b[1;33m\u001b[0m\u001b[0m\n",
      "\u001b[1;32m<ipython-input-62-7b01cabf563d>\u001b[0m in \u001b[0;36mfunction1\u001b[1;34m(y=-5, z=0)\u001b[0m\n\u001b[0;32m      1\u001b[0m \u001b[1;31m#ZeroDivisionError\u001b[0m\u001b[1;33m\u001b[0m\u001b[1;33m\u001b[0m\u001b[1;33m\u001b[0m\u001b[0m\n\u001b[0;32m      2\u001b[0m \u001b[1;32mdef\u001b[0m \u001b[0mfunction1\u001b[0m\u001b[1;33m(\u001b[0m\u001b[0my\u001b[0m\u001b[1;33m,\u001b[0m \u001b[0mz\u001b[0m\u001b[1;33m)\u001b[0m\u001b[1;33m:\u001b[0m\u001b[1;33m\u001b[0m\u001b[1;33m\u001b[0m\u001b[0m\n\u001b[1;32m----> 3\u001b[1;33m     \u001b[1;32mreturn\u001b[0m \u001b[0my\u001b[0m \u001b[1;33m/\u001b[0m \u001b[0mz\u001b[0m\u001b[1;33m\u001b[0m\u001b[1;33m\u001b[0m\u001b[0m\n\u001b[0m        \u001b[0;36my\u001b[0m \u001b[1;34m= -5\u001b[0m\u001b[1;34m\n        \u001b[0m\u001b[0;36mz\u001b[0m \u001b[1;34m= 0\u001b[0m\n\u001b[0;32m      4\u001b[0m \u001b[1;33m\u001b[0m\u001b[0m\n\u001b[0;32m      5\u001b[0m \u001b[1;32mdef\u001b[0m \u001b[0mfunction2\u001b[0m\u001b[1;33m(\u001b[0m\u001b[0mn\u001b[0m\u001b[1;33m)\u001b[0m\u001b[1;33m:\u001b[0m\u001b[1;33m\u001b[0m\u001b[1;33m\u001b[0m\u001b[0m\n",
      "\u001b[1;31mZeroDivisionError\u001b[0m: division by zero"
     ]
    }
   ],
   "source": [
    "#ZeroDivisionError\n",
    "def function1(y, z):\n",
    "    return y / z\n",
    "\n",
    "def function2(n):\n",
    "    y = n\n",
    "    z = n + 5\n",
    "    return function1(y, z)\n",
    "\n",
    "function2(-5)"
   ]
  },
  {
   "cell_type": "code",
   "execution_count": 63,
   "metadata": {
    "scrolled": true
   },
   "outputs": [
    {
     "ename": "ModuleNotFoundError",
     "evalue": "No module named 'fakemodule'",
     "output_type": "error",
     "traceback": [
      "\u001b[1;31m---------------------------------------------------------------------------\u001b[0m",
      "\u001b[1;31mModuleNotFoundError\u001b[0m                       Traceback (most recent call last)",
      "\u001b[1;32m<ipython-input-63-70d6a6efe7b7>\u001b[0m in \u001b[0;36m<module>\u001b[1;34m\u001b[0m\n\u001b[0;32m      1\u001b[0m \u001b[1;31m#ModuleNotFoundError\u001b[0m\u001b[1;33m\u001b[0m\u001b[1;33m\u001b[0m\u001b[1;33m\u001b[0m\u001b[0m\n\u001b[1;32m----> 2\u001b[1;33m \u001b[1;32mimport\u001b[0m \u001b[0mfakemodule\u001b[0m\u001b[1;33m\u001b[0m\u001b[1;33m\u001b[0m\u001b[0m\n\u001b[0m        \u001b[1;36mglobal\u001b[0m \u001b[0;36mfakemodule\u001b[0m \u001b[1;34m= \u001b[1;36mundefined\u001b[0m\u001b[0m\n",
      "\u001b[1;31mModuleNotFoundError\u001b[0m: No module named 'fakemodule'"
     ]
    }
   ],
   "source": [
    "#ModuleNotFoundError\n",
    "import fakemodule"
   ]
  },
  {
   "cell_type": "code",
   "execution_count": 64,
   "metadata": {},
   "outputs": [
    {
     "ename": "ValueError",
     "evalue": "list.remove(x): x not in list",
     "output_type": "error",
     "traceback": [
      "\u001b[1;31m---------------------------------------------------------------------------\u001b[0m",
      "\u001b[1;31mValueError\u001b[0m                                Traceback (most recent call last)",
      "\u001b[1;32m<ipython-input-64-581052f1462e>\u001b[0m in \u001b[0;36m<module>\u001b[1;34m\u001b[0m\n\u001b[0;32m      2\u001b[0m \u001b[0mn\u001b[0m \u001b[1;33m=\u001b[0m \u001b[1;36m5\u001b[0m\u001b[1;33m\u001b[0m\u001b[1;33m\u001b[0m\u001b[0m\n\u001b[0;32m      3\u001b[0m \u001b[0mlist\u001b[0m \u001b[1;33m=\u001b[0m \u001b[1;33m[\u001b[0m\u001b[1;36m1\u001b[0m\u001b[1;33m,\u001b[0m \u001b[1;36m2\u001b[0m\u001b[1;33m,\u001b[0m \u001b[1;36m3\u001b[0m\u001b[1;33m]\u001b[0m\u001b[1;33m\u001b[0m\u001b[1;33m\u001b[0m\u001b[0m\n\u001b[1;32m----> 4\u001b[1;33m \u001b[0mlist\u001b[0m\u001b[1;33m.\u001b[0m\u001b[0mremove\u001b[0m\u001b[1;33m(\u001b[0m\u001b[0mn\u001b[0m\u001b[1;33m)\u001b[0m\u001b[1;33m\u001b[0m\u001b[1;33m\u001b[0m\u001b[0m\n\u001b[0m        \u001b[1;36mglobal\u001b[0m \u001b[0;36mlist.remove\u001b[0m \u001b[1;34m= <built-in method remove of list object at 0x0000012520138B08>\u001b[0m\u001b[1;34m\n        \u001b[0m\u001b[1;36mglobal\u001b[0m \u001b[0;36mn\u001b[0m \u001b[1;34m= 5\u001b[0m\n",
      "\u001b[1;31mValueError\u001b[0m: list.remove(x): x not in list"
     ]
    }
   ],
   "source": [
    "#Value Error\n",
    "n = 5\n",
    "list = [1, 2, 3]\n",
    "list.remove(n)"
   ]
  },
  {
   "cell_type": "markdown",
   "metadata": {},
   "source": [
    "## Requirement 19"
   ]
  },
  {
   "cell_type": "markdown",
   "metadata": {},
   "source": [
    "#### Demonstrate the use of the debugger with the exceptions thrown in the previous requirement"
   ]
  },
  {
   "cell_type": "code",
   "execution_count": 2,
   "metadata": {},
   "outputs": [
    {
     "name": "stdout",
     "output_type": "stream",
     "text": [
      "Exception reporting mode: Plain\n",
      "Automatic pdb calling has been turned ON\n"
     ]
    }
   ],
   "source": [
    "%xmode Plain\n",
    "%pdb on"
   ]
  },
  {
   "cell_type": "code",
   "execution_count": 9,
   "metadata": {},
   "outputs": [
    {
     "ename": "ZeroDivisionError",
     "evalue": "division by zero",
     "output_type": "error",
     "traceback": [
      "Traceback \u001b[1;36m(most recent call last)\u001b[0m:\n",
      "  File \u001b[0;32m\"<ipython-input-9-4bae3fa8ca22>\"\u001b[0m, line \u001b[0;32m10\u001b[0m, in \u001b[0;35m<module>\u001b[0m\n    function2(-5)\n",
      "  File \u001b[0;32m\"<ipython-input-9-4bae3fa8ca22>\"\u001b[0m, line \u001b[0;32m8\u001b[0m, in \u001b[0;35mfunction2\u001b[0m\n    return function1(y, z)\n",
      "\u001b[1;36m  File \u001b[1;32m\"<ipython-input-9-4bae3fa8ca22>\"\u001b[1;36m, line \u001b[1;32m3\u001b[1;36m, in \u001b[1;35mfunction1\u001b[1;36m\u001b[0m\n\u001b[1;33m    return y / z\u001b[0m\n",
      "\u001b[1;31mZeroDivisionError\u001b[0m\u001b[1;31m:\u001b[0m division by zero\n"
     ]
    },
    {
     "name": "stdout",
     "output_type": "stream",
     "text": [
      "> \u001b[1;32m<ipython-input-9-4bae3fa8ca22>\u001b[0m(3)\u001b[0;36mfunction1\u001b[1;34m()\u001b[0m\n",
      "\u001b[1;32m      1 \u001b[1;33m\u001b[1;31m#ZeroDivisionError with debugger\u001b[0m\u001b[1;33m\u001b[0m\u001b[1;33m\u001b[0m\u001b[1;33m\u001b[0m\u001b[0m\n",
      "\u001b[0m\u001b[1;32m      2 \u001b[1;33m\u001b[1;32mdef\u001b[0m \u001b[0mfunction1\u001b[0m\u001b[1;33m(\u001b[0m\u001b[0my\u001b[0m\u001b[1;33m,\u001b[0m \u001b[0mz\u001b[0m\u001b[1;33m)\u001b[0m\u001b[1;33m:\u001b[0m\u001b[1;33m\u001b[0m\u001b[1;33m\u001b[0m\u001b[0m\n",
      "\u001b[0m\u001b[1;32m----> 3 \u001b[1;33m    \u001b[1;32mreturn\u001b[0m \u001b[0my\u001b[0m \u001b[1;33m/\u001b[0m \u001b[0mz\u001b[0m\u001b[1;33m\u001b[0m\u001b[1;33m\u001b[0m\u001b[0m\n",
      "\u001b[0m\u001b[1;32m      4 \u001b[1;33m\u001b[1;33m\u001b[0m\u001b[0m\n",
      "\u001b[0m\u001b[1;32m      5 \u001b[1;33m\u001b[1;32mdef\u001b[0m \u001b[0mfunction2\u001b[0m\u001b[1;33m(\u001b[0m\u001b[0mn\u001b[0m\u001b[1;33m)\u001b[0m\u001b[1;33m:\u001b[0m\u001b[1;33m\u001b[0m\u001b[1;33m\u001b[0m\u001b[0m\n",
      "\u001b[0m\n",
      "ipdb> print(y)\n",
      "-5\n",
      "ipdb> print(z)\n",
      "0\n",
      "ipdb> quit\n"
     ]
    }
   ],
   "source": [
    "#ZeroDivisionError with debugger\n",
    "def function1(y, z):\n",
    "    return y / z\n",
    "\n",
    "def function2(n):\n",
    "    y = n\n",
    "    z = n + 5\n",
    "    return function1(y, z)\n",
    "\n",
    "function2(-5)"
   ]
  },
  {
   "cell_type": "code",
   "execution_count": 3,
   "metadata": {},
   "outputs": [
    {
     "ename": "ModuleNotFoundError",
     "evalue": "No module named 'fakemodule'",
     "output_type": "error",
     "traceback": [
      "Traceback \u001b[1;36m(most recent call last)\u001b[0m:\n",
      "\u001b[1;36m  File \u001b[1;32m\"<ipython-input-3-f238d02c29ce>\"\u001b[1;36m, line \u001b[1;32m2\u001b[1;36m, in \u001b[1;35m<module>\u001b[1;36m\u001b[0m\n\u001b[1;33m    import fakemodule\u001b[0m\n",
      "\u001b[1;31mModuleNotFoundError\u001b[0m\u001b[1;31m:\u001b[0m No module named 'fakemodule'\n"
     ]
    },
    {
     "name": "stdout",
     "output_type": "stream",
     "text": [
      "> \u001b[1;32m<ipython-input-3-f238d02c29ce>\u001b[0m(2)\u001b[0;36m<module>\u001b[1;34m()\u001b[0m\n",
      "\u001b[1;32m      1 \u001b[1;33m\u001b[1;31m# ModuleNotFoundError with debugger\u001b[0m\u001b[1;33m\u001b[0m\u001b[1;33m\u001b[0m\u001b[1;33m\u001b[0m\u001b[0m\n",
      "\u001b[0m\u001b[1;32m----> 2 \u001b[1;33m\u001b[1;32mimport\u001b[0m \u001b[0mfakemodule\u001b[0m\u001b[1;33m\u001b[0m\u001b[1;33m\u001b[0m\u001b[0m\n",
      "\u001b[0m\n",
      "ipdb> help\n",
      "\n",
      "Documented commands (type help <topic>):\n",
      "========================================\n",
      "EOF    cl         disable  interact  next    psource  rv         unt   \n",
      "a      clear      display  j         p       q        s          until \n",
      "alias  commands   down     jump      pdef    quit     source     up    \n",
      "args   condition  enable   l         pdoc    r        step       w     \n",
      "b      cont       exit     list      pfile   restart  tbreak     whatis\n",
      "break  continue   h        ll        pinfo   return   u          where \n",
      "bt     d          help     longlist  pinfo2  retval   unalias  \n",
      "c      debug      ignore   n         pp      run      undisplay\n",
      "\n",
      "Miscellaneous help topics:\n",
      "==========================\n",
      "exec  pdb\n",
      "\n",
      "ipdb> list\n",
      "\u001b[0;32m      1 \u001b[0m\u001b[1;31m# ModuleNotFoundError with debugger\u001b[0m\u001b[1;33m\u001b[0m\u001b[1;33m\u001b[0m\u001b[1;33m\u001b[0m\u001b[0m\n",
      "\u001b[1;32m----> 2 \u001b[1;33m\u001b[1;32mimport\u001b[0m \u001b[0mfakemodule\u001b[0m\u001b[1;33m\u001b[0m\u001b[1;33m\u001b[0m\u001b[0m\n",
      "\u001b[0m\n",
      "ipdb> quit\n"
     ]
    }
   ],
   "source": [
    "# ModuleNotFoundError with debugger\n",
    "import fakemodule"
   ]
  },
  {
   "cell_type": "code",
   "execution_count": 3,
   "metadata": {},
   "outputs": [
    {
     "ename": "ValueError",
     "evalue": "list.remove(x): x not in list",
     "output_type": "error",
     "traceback": [
      "Traceback \u001b[1;36m(most recent call last)\u001b[0m:\n",
      "\u001b[1;36m  File \u001b[1;32m\"<ipython-input-3-0c0289e5514a>\"\u001b[1;36m, line \u001b[1;32m4\u001b[1;36m, in \u001b[1;35m<module>\u001b[1;36m\u001b[0m\n\u001b[1;33m    list.remove(n)\u001b[0m\n",
      "\u001b[1;31mValueError\u001b[0m\u001b[1;31m:\u001b[0m list.remove(x): x not in list\n"
     ]
    },
    {
     "name": "stdout",
     "output_type": "stream",
     "text": [
      "> \u001b[1;32m<ipython-input-3-0c0289e5514a>\u001b[0m(4)\u001b[0;36m<module>\u001b[1;34m()\u001b[0m\n",
      "\u001b[1;32m      1 \u001b[1;33m\u001b[1;31m#ValueError with debugger\u001b[0m\u001b[1;33m\u001b[0m\u001b[1;33m\u001b[0m\u001b[1;33m\u001b[0m\u001b[0m\n",
      "\u001b[0m\u001b[1;32m      2 \u001b[1;33m\u001b[0mn\u001b[0m \u001b[1;33m=\u001b[0m \u001b[1;36m5\u001b[0m\u001b[1;33m\u001b[0m\u001b[1;33m\u001b[0m\u001b[0m\n",
      "\u001b[0m\u001b[1;32m      3 \u001b[1;33m\u001b[0mlist\u001b[0m \u001b[1;33m=\u001b[0m \u001b[1;33m[\u001b[0m\u001b[1;36m1\u001b[0m\u001b[1;33m,\u001b[0m \u001b[1;36m2\u001b[0m\u001b[1;33m,\u001b[0m \u001b[1;36m3\u001b[0m\u001b[1;33m]\u001b[0m\u001b[1;33m\u001b[0m\u001b[1;33m\u001b[0m\u001b[0m\n",
      "\u001b[0m\u001b[1;32m----> 4 \u001b[1;33m\u001b[0mlist\u001b[0m\u001b[1;33m.\u001b[0m\u001b[0mremove\u001b[0m\u001b[1;33m(\u001b[0m\u001b[0mn\u001b[0m\u001b[1;33m)\u001b[0m\u001b[1;33m\u001b[0m\u001b[1;33m\u001b[0m\u001b[0m\n",
      "\u001b[0m\n",
      "ipdb> print(list)\n",
      "[1, 2, 3]\n",
      "ipdb> print(n_\n",
      "*** SyntaxError: unexpected EOF while parsing\n",
      "ipdb> print(n)\n",
      "5\n",
      "ipdb> quit\n"
     ]
    }
   ],
   "source": [
    "#ValueError with debugger\n",
    "n = 5\n",
    "list = [1, 2, 3]\n",
    "list.remove(n)"
   ]
  },
  {
   "cell_type": "markdown",
   "metadata": {},
   "source": [
    "## Requirement 20"
   ]
  },
  {
   "cell_type": "markdown",
   "metadata": {},
   "source": [
    "#### Use at least 4 magic commands to time a function(s) that you have written"
   ]
  },
  {
   "cell_type": "code",
   "execution_count": 1,
   "metadata": {},
   "outputs": [],
   "source": [
    "def primegen(n, m):\n",
    "    for x in range(n, m):\n",
    "        if all(x % y != 0 for y in range(2, x)):\n",
    "            yield x"
   ]
  },
  {
   "cell_type": "code",
   "execution_count": 3,
   "metadata": {},
   "outputs": [
    {
     "name": "stdout",
     "output_type": "stream",
     "text": [
      "[2, 3, 5, 7, 11, 13, 17, 19, 23, 29, 31, 37, 41, 43, 47, 53, 59, 61, 67, 71, 73, 79, 83, 89, 97]\n",
      "Wall time: 0 ns\n"
     ]
    }
   ],
   "source": [
    "%time print(list(primegen(2, 100)))"
   ]
  },
  {
   "cell_type": "code",
   "execution_count": 4,
   "metadata": {},
   "outputs": [
    {
     "name": "stdout",
     "output_type": "stream",
     "text": [
      "127 µs ± 5.36 µs per loop (mean ± std. dev. of 7 runs, 10000 loops each)\n"
     ]
    }
   ],
   "source": [
    "%timeit list(primegen(2, 100))"
   ]
  },
  {
   "cell_type": "code",
   "execution_count": 5,
   "metadata": {},
   "outputs": [
    {
     "name": "stdout",
     "output_type": "stream",
     "text": [
      "554 ms ± 39.2 ms per loop (mean ± std. dev. of 7 runs, 1 loop each)\n"
     ]
    }
   ],
   "source": [
    "%timeit list(primegen(2, 10000))"
   ]
  },
  {
   "cell_type": "code",
   "execution_count": 8,
   "metadata": {},
   "outputs": [
    {
     "name": "stdout",
     "output_type": "stream",
     "text": [
      "         80189 function calls in 0.024 seconds\n",
      "\n",
      "   Ordered by: internal time\n",
      "\n",
      "   ncalls  tottime  percall  cumtime  percall filename:lineno(function)\n",
      "    79019    0.015    0.000    0.015    0.000 <ipython-input-1-a52b38ddc19c>:3(<genexpr>)\n",
      "      998    0.007    0.000    0.022    0.000 {built-in method builtins.all}\n",
      "      169    0.001    0.000    0.023    0.000 <ipython-input-1-a52b38ddc19c>:1(primegen)\n",
      "        1    0.000    0.000    0.024    0.024 <string>:1(<module>)\n",
      "        1    0.000    0.000    0.024    0.024 {built-in method builtins.exec}\n",
      "        1    0.000    0.000    0.000    0.000 {method 'disable' of '_lsprof.Profiler' objects}\n",
      " "
     ]
    }
   ],
   "source": [
    "%prun (list(primegen(2, 1000)))"
   ]
  },
  {
   "cell_type": "markdown",
   "metadata": {},
   "source": [
    "## Requirement 21"
   ]
  },
  {
   "cell_type": "markdown",
   "metadata": {},
   "source": [
    "I was only able to demonstrate the usage of three magic functions to time the function I had written in requirement 20. In attempting to install the line_profiler package as explained in the textbook to use the %lprun magic function, I received an error message (\"ERROR: Failed building wheel for line-profiler\n",
    "ERROR: Could not build wheels for line-profiler which use PEP 517 and cannot be installed directly\") indicating that I would not be able to do so without first installing Microsoft Visual Studio 2017. In order to compensate for only using three magic functions, I used one of them twice, timing the function with different arguments. \n",
    "\n",
    "Additionally, I had some difficulty in finding a way to output some of the help and documentation demonstrations, as they were displayed in the pager, which would not necessarily be displayed when submitting the assignment. However, I was able to find a piece of code that will disable the pager functionality in Jupyter, allowing the output of the help functions and %prun to be displayed in line. \n",
    "\n",
    "Finally, I also had some difficulty in figuring out how to display the tab completion, and so I had to learn how to import an image file into the notebook. I hope that was an acceptable solution. "
   ]
  }
 ],
 "metadata": {
  "kernelspec": {
   "display_name": "Python 3",
   "language": "python",
   "name": "python3"
  },
  "language_info": {
   "codemirror_mode": {
    "name": "ipython",
    "version": 3
   },
   "file_extension": ".py",
   "mimetype": "text/x-python",
   "name": "python",
   "nbconvert_exporter": "python",
   "pygments_lexer": "ipython3",
   "version": "3.7.7"
  }
 },
 "nbformat": 4,
 "nbformat_minor": 4
}
